{
  "nbformat": 4,
  "nbformat_minor": 0,
  "metadata": {
    "colab": {
      "name": "Lab_4_Data_Imputation.ipynb",
      "provenance": [],
      "collapsed_sections": [
        "HwjDg1uM1pqe",
        "OEJ0Ci3l1pqh",
        "1_5ZZR_J1pqy",
        "WKk01pwx1pq_",
        "SxCTlXoV1prB",
        "h9xTwIf51prF",
        "UEe9yt6L1prM",
        "QlHu0wxh1prP",
        "DfQPgu1Q1prS",
        "p_d5uuAY1prZ",
        "fdLNA0ce1prd"
      ],
      "toc_visible": true
    },
    "kernelspec": {
      "display_name": "Python 3",
      "language": "python",
      "name": "python3"
    },
    "language_info": {
      "codemirror_mode": {
        "name": "ipython",
        "version": 3
      },
      "file_extension": ".py",
      "mimetype": "text/x-python",
      "name": "python",
      "nbconvert_exporter": "python",
      "pygments_lexer": "ipython3",
      "version": "3.6.3"
    }
  },
  "cells": [
    {
      "cell_type": "markdown",
      "metadata": {
        "id": "OhtOdxzd1ppr"
      },
      "source": [
        "# Lab 4: Data Imputation using an Autoencoder\n",
        "\n",
        "**Deadline**: Mon, March 01, 5:00pm\n",
        "\n",
        "**Late Penalty**: There is a penalty-free grace period of one hour past the deadline. Any work that is submitted between 1 hour and 24 hours past the deadline will receive a 20% grade deduction. No other late work is accepted. Quercus submission time will be used, not your local computer time. You can submit your labs as many times as you want before the deadline, so please submit often and early.\n",
        "\n",
        "**TA**: Chris Lucasius <christopher.lucasius@mail.utoronto.ca>\n",
        "\n",
        "In this lab, you will build and train an autoencoder to impute (or \"fill in\") missing data. \n",
        "\n",
        "We will be using the\n",
        "Adult Data Set provided by the UCI Machine Learning Repository [1], available \n",
        "at https://archive.ics.uci.edu/ml/datasets/adult.\n",
        "The data set contains census record files of adults, including their\n",
        "age, martial status, the type of work they do, and other features. \n",
        "\n",
        "Normally, people use this data set to build a supervised classification\n",
        "model to classify whether a person is a high income earner.\n",
        "We will not use the dataset for this original intended purpose.\n",
        "\n",
        "Instead, we will perform the task of imputing (or \"filling in\") missing values in the dataset. For example,\n",
        "we may be missing one person's martial status, and another person's age, and\n",
        "a third person's level of education. Our model will predict the missing features \n",
        "based on the information that we do have about each person.\n",
        "\n",
        "We will use a variation of a denoising autoencoder to solve this data imputation\n",
        "problem. Our autoencoder will be trained using inputs that have one categorical feature artificially\n",
        "removed, and the goal of the autoencoder is to correctly reconstruct all features,\n",
        "including the one removed from the input.\n",
        "\n",
        "In the process, you are expected to learn to:\n",
        "\n",
        "1. Clean and process continuous and categorical data for machine learning.\n",
        "2. Implement an autoencoder that takes continuous and categorical (one-hot) inputs.\n",
        "3. Tune the hyperparameters of an autoencoder.\n",
        "4. Use baseline models to help interpret model performance.\n",
        "\n",
        "[1] Dua, D. and Karra Taniskidou, E. (2017). UCI Machine Learning Repository [http://archive.ics.uci.edu/ml]. Irvine, CA: University of California, School of Information and Computer Science.\n",
        "\n",
        "\n",
        "### What to submit\n",
        "\n",
        "Submit a PDF file containing all your code, outputs, and write-up. You can produce a PDF of your Google Colab file by going to File > Print and then save as PDF. The Colab instructions have more information (.html files are also acceptable).\n",
        "\n",
        "Do not submit any other files produced by your code.\n",
        "\n",
        "Include a link to your colab file in your submission.\n"
      ]
    },
    {
      "cell_type": "markdown",
      "metadata": {
        "id": "zbnrp2ig1pps"
      },
      "source": [
        "## Colab Link\n",
        "\n",
        "Include a link to your Colab file here. If you would like the TA to look at your\n",
        "Colab file in case your solutions are cut off, **please make sure that your Colab\n",
        "file is publicly accessible at the time of submission**.\n",
        "\n",
        "Colab Link:https://colab.research.google.com/drive/1n0b7tOzwX9BkvrvNYEga8EQmM5Q8tm9v?usp=sharing\n"
      ]
    },
    {
      "cell_type": "code",
      "metadata": {
        "collapsed": true,
        "id": "z3p8N43E1ppt"
      },
      "source": [
        "import csv\n",
        "import numpy as np\n",
        "import random\n",
        "import torch\n",
        "import torch.utils.data\n",
        "import matplotlib.pyplot as plt"
      ],
      "execution_count": null,
      "outputs": []
    },
    {
      "cell_type": "markdown",
      "metadata": {
        "id": "8ROwtHcz1ppx"
      },
      "source": [
        "## Part 0\n",
        "\n",
        "We will be using a package called `pandas` for this assignment. \n",
        "\n",
        "If you are using Colab, `pandas` should already be available.\n",
        "If you are using your own computer,\n",
        "installation instructions for `pandas` are available here: \n",
        "https://pandas.pydata.org/pandas-docs/stable/install.html"
      ]
    },
    {
      "cell_type": "code",
      "metadata": {
        "collapsed": true,
        "id": "IXQ7BP151ppz"
      },
      "source": [
        "import pandas as pd"
      ],
      "execution_count": null,
      "outputs": []
    },
    {
      "cell_type": "markdown",
      "metadata": {
        "id": "hqXihb4Q1pp2"
      },
      "source": [
        "# Part 1. Data Cleaning [15 pt]\n",
        "\n",
        "The adult.data file is available at `https://archive.ics.uci.edu/ml/machine-learning-databases/adult/adult.data`\n",
        "\n",
        "The function `pd.read_csv` loads the adult.data file into a pandas dataframe.\n",
        "You can read about the pandas documentation for `pd.read_csv` at\n",
        "https://pandas.pydata.org/pandas-docs/stable/reference/api/pandas.read_csv.html"
      ]
    },
    {
      "cell_type": "code",
      "metadata": {
        "collapsed": true,
        "id": "EOMItFKn1pp3"
      },
      "source": [
        "header = ['age', 'work', 'fnlwgt', 'edu', 'yredu', 'marriage', 'occupation',\n",
        " 'relationship', 'race', 'sex', 'capgain', 'caploss', 'workhr', 'country']\n",
        "df = pd.read_csv(\n",
        "    \"https://archive.ics.uci.edu/ml/machine-learning-databases/adult/adult.data\",\n",
        "    names=header,\n",
        "    index_col=False)"
      ],
      "execution_count": null,
      "outputs": []
    },
    {
      "cell_type": "code",
      "metadata": {
        "id": "62Ot405q1pp5",
        "scrolled": true,
        "colab": {
          "base_uri": "https://localhost:8080/"
        },
        "outputId": "35f6bb0d-e574-4aba-c2e3-9059e69d13fa"
      },
      "source": [
        "df.shape # there are 32561 rows (records) in the data frame, and 14 columns (features)"
      ],
      "execution_count": null,
      "outputs": [
        {
          "output_type": "execute_result",
          "data": {
            "text/plain": [
              "(32561, 14)"
            ]
          },
          "metadata": {
            "tags": []
          },
          "execution_count": 7
        }
      ]
    },
    {
      "cell_type": "markdown",
      "metadata": {
        "id": "Tr7YG-QY1pp8"
      },
      "source": [
        "### Part (a) Continuous Features [3 pt]\n",
        "\n",
        "For each of the columns `[\"age\", \"yredu\", \"capgain\", \"caploss\", \"workhr\"]`, report the minimum, maximum, and average value across the dataset. \n",
        "\n",
        "Then, normalize each of the features `[\"age\", \"yredu\", \"capgain\", \"caploss\", \"workhr\"]`\n",
        "so that their values are always between 0 and 1.\n",
        "Make sure that you are actually modifying the dataframe `df`. \n",
        "\n",
        "Like numpy arrays and torch tensors, \n",
        "pandas data frames can be sliced. For example, we can\n",
        "display the first 3 rows of the data frame (3 records) below."
      ]
    },
    {
      "cell_type": "code",
      "metadata": {
        "id": "9evSLsSa1pp9",
        "scrolled": false,
        "colab": {
          "base_uri": "https://localhost:8080/",
          "height": 230
        },
        "outputId": "5d214014-2e52-4fe9-826a-70a415e68865"
      },
      "source": [
        "df[:3] # show the first 3 records"
      ],
      "execution_count": null,
      "outputs": [
        {
          "output_type": "execute_result",
          "data": {
            "text/html": [
              "<div>\n",
              "<style scoped>\n",
              "    .dataframe tbody tr th:only-of-type {\n",
              "        vertical-align: middle;\n",
              "    }\n",
              "\n",
              "    .dataframe tbody tr th {\n",
              "        vertical-align: top;\n",
              "    }\n",
              "\n",
              "    .dataframe thead th {\n",
              "        text-align: right;\n",
              "    }\n",
              "</style>\n",
              "<table border=\"1\" class=\"dataframe\">\n",
              "  <thead>\n",
              "    <tr style=\"text-align: right;\">\n",
              "      <th></th>\n",
              "      <th>age</th>\n",
              "      <th>work</th>\n",
              "      <th>fnlwgt</th>\n",
              "      <th>edu</th>\n",
              "      <th>yredu</th>\n",
              "      <th>marriage</th>\n",
              "      <th>occupation</th>\n",
              "      <th>relationship</th>\n",
              "      <th>race</th>\n",
              "      <th>sex</th>\n",
              "      <th>capgain</th>\n",
              "      <th>caploss</th>\n",
              "      <th>workhr</th>\n",
              "      <th>country</th>\n",
              "    </tr>\n",
              "  </thead>\n",
              "  <tbody>\n",
              "    <tr>\n",
              "      <th>0</th>\n",
              "      <td>39</td>\n",
              "      <td>State-gov</td>\n",
              "      <td>77516</td>\n",
              "      <td>Bachelors</td>\n",
              "      <td>13</td>\n",
              "      <td>Never-married</td>\n",
              "      <td>Adm-clerical</td>\n",
              "      <td>Not-in-family</td>\n",
              "      <td>White</td>\n",
              "      <td>Male</td>\n",
              "      <td>2174</td>\n",
              "      <td>0</td>\n",
              "      <td>40</td>\n",
              "      <td>United-States</td>\n",
              "    </tr>\n",
              "    <tr>\n",
              "      <th>1</th>\n",
              "      <td>50</td>\n",
              "      <td>Self-emp-not-inc</td>\n",
              "      <td>83311</td>\n",
              "      <td>Bachelors</td>\n",
              "      <td>13</td>\n",
              "      <td>Married-civ-spouse</td>\n",
              "      <td>Exec-managerial</td>\n",
              "      <td>Husband</td>\n",
              "      <td>White</td>\n",
              "      <td>Male</td>\n",
              "      <td>0</td>\n",
              "      <td>0</td>\n",
              "      <td>13</td>\n",
              "      <td>United-States</td>\n",
              "    </tr>\n",
              "    <tr>\n",
              "      <th>2</th>\n",
              "      <td>38</td>\n",
              "      <td>Private</td>\n",
              "      <td>215646</td>\n",
              "      <td>HS-grad</td>\n",
              "      <td>9</td>\n",
              "      <td>Divorced</td>\n",
              "      <td>Handlers-cleaners</td>\n",
              "      <td>Not-in-family</td>\n",
              "      <td>White</td>\n",
              "      <td>Male</td>\n",
              "      <td>0</td>\n",
              "      <td>0</td>\n",
              "      <td>40</td>\n",
              "      <td>United-States</td>\n",
              "    </tr>\n",
              "  </tbody>\n",
              "</table>\n",
              "</div>"
            ],
            "text/plain": [
              "   age               work  fnlwgt  ... caploss  workhr         country\n",
              "0   39          State-gov   77516  ...       0      40   United-States\n",
              "1   50   Self-emp-not-inc   83311  ...       0      13   United-States\n",
              "2   38            Private  215646  ...       0      40   United-States\n",
              "\n",
              "[3 rows x 14 columns]"
            ]
          },
          "metadata": {
            "tags": []
          },
          "execution_count": 8
        }
      ]
    },
    {
      "cell_type": "markdown",
      "metadata": {
        "id": "gBOojI6W1pqA"
      },
      "source": [
        "Alternatively, we can slice based on column names, \n",
        "for example `df[\"race\"]`, `df[\"hr\"]`, or even index multiple columns \n",
        "like below."
      ]
    },
    {
      "cell_type": "code",
      "metadata": {
        "id": "4v6pp73A1pqB",
        "colab": {
          "base_uri": "https://localhost:8080/",
          "height": 142
        },
        "outputId": "bf7ef76c-e8e5-46c6-a1ab-8d2dccf1d1b2"
      },
      "source": [
        "subdf = df[[\"age\", \"yredu\", \"capgain\", \"caploss\", \"workhr\"]]\n",
        "subdf[:3] # show the first 3 records"
      ],
      "execution_count": null,
      "outputs": [
        {
          "output_type": "execute_result",
          "data": {
            "text/html": [
              "<div>\n",
              "<style scoped>\n",
              "    .dataframe tbody tr th:only-of-type {\n",
              "        vertical-align: middle;\n",
              "    }\n",
              "\n",
              "    .dataframe tbody tr th {\n",
              "        vertical-align: top;\n",
              "    }\n",
              "\n",
              "    .dataframe thead th {\n",
              "        text-align: right;\n",
              "    }\n",
              "</style>\n",
              "<table border=\"1\" class=\"dataframe\">\n",
              "  <thead>\n",
              "    <tr style=\"text-align: right;\">\n",
              "      <th></th>\n",
              "      <th>age</th>\n",
              "      <th>yredu</th>\n",
              "      <th>capgain</th>\n",
              "      <th>caploss</th>\n",
              "      <th>workhr</th>\n",
              "    </tr>\n",
              "  </thead>\n",
              "  <tbody>\n",
              "    <tr>\n",
              "      <th>0</th>\n",
              "      <td>39</td>\n",
              "      <td>13</td>\n",
              "      <td>2174</td>\n",
              "      <td>0</td>\n",
              "      <td>40</td>\n",
              "    </tr>\n",
              "    <tr>\n",
              "      <th>1</th>\n",
              "      <td>50</td>\n",
              "      <td>13</td>\n",
              "      <td>0</td>\n",
              "      <td>0</td>\n",
              "      <td>13</td>\n",
              "    </tr>\n",
              "    <tr>\n",
              "      <th>2</th>\n",
              "      <td>38</td>\n",
              "      <td>9</td>\n",
              "      <td>0</td>\n",
              "      <td>0</td>\n",
              "      <td>40</td>\n",
              "    </tr>\n",
              "  </tbody>\n",
              "</table>\n",
              "</div>"
            ],
            "text/plain": [
              "   age  yredu  capgain  caploss  workhr\n",
              "0   39     13     2174        0      40\n",
              "1   50     13        0        0      13\n",
              "2   38      9        0        0      40"
            ]
          },
          "metadata": {
            "tags": []
          },
          "execution_count": 9
        }
      ]
    },
    {
      "cell_type": "markdown",
      "metadata": {
        "id": "2Nru2P0E1pqD"
      },
      "source": [
        "Numpy works nicely with pandas, like below:"
      ]
    },
    {
      "cell_type": "code",
      "metadata": {
        "id": "JXrS6tjp1pqE",
        "colab": {
          "base_uri": "https://localhost:8080/"
        },
        "outputId": "38884425-248e-4ad6-caec-d56c7692b88d"
      },
      "source": [
        "np.sum(subdf[\"caploss\"])"
      ],
      "execution_count": null,
      "outputs": [
        {
          "output_type": "execute_result",
          "data": {
            "text/plain": [
              "2842700"
            ]
          },
          "metadata": {
            "tags": []
          },
          "execution_count": 10
        }
      ]
    },
    {
      "cell_type": "markdown",
      "metadata": {
        "id": "Mv5mbxDM1pqH"
      },
      "source": [
        "Just like numpy arrays, you can modify\n",
        "entire columns of data rather than one scalar element at a time.\n",
        "For example, the code  \n",
        "\n",
        "`df[\"age\"] = df[\"age\"] + 1` \n",
        "\n",
        "would increment everyone's age by 1."
      ]
    },
    {
      "cell_type": "code",
      "metadata": {
        "id": "k5rlWD7-1pqH",
        "colab": {
          "base_uri": "https://localhost:8080/"
        },
        "outputId": "597a4765-e744-4b2d-9afa-ab68472f7558"
      },
      "source": [
        "df[\"age\"] = df[\"age\"] + 1\n",
        "df[\"age\"]"
      ],
      "execution_count": null,
      "outputs": [
        {
          "output_type": "execute_result",
          "data": {
            "text/plain": [
              "0        40\n",
              "1        51\n",
              "2        39\n",
              "3        54\n",
              "4        29\n",
              "         ..\n",
              "32556    28\n",
              "32557    41\n",
              "32558    59\n",
              "32559    23\n",
              "32560    53\n",
              "Name: age, Length: 32561, dtype: int64"
            ]
          },
          "metadata": {
            "tags": []
          },
          "execution_count": 11
        }
      ]
    },
    {
      "cell_type": "code",
      "metadata": {
        "colab": {
          "base_uri": "https://localhost:8080/"
        },
        "id": "AWY4nk-kNFav",
        "outputId": "4e16245e-c7d2-4921-fa04-e6f8d63adc2d"
      },
      "source": [
        "print('The max value of age:', (df['age']).max())\n",
        "print('The min value of age:', (df['age']).min())\n",
        "print('The avg value of age:', (df['age']).mean())"
      ],
      "execution_count": null,
      "outputs": [
        {
          "output_type": "stream",
          "text": [
            "The max value of age: 90\n",
            "The min value of age: 17\n",
            "The avg value of age: 38.58164675532078\n"
          ],
          "name": "stdout"
        }
      ]
    },
    {
      "cell_type": "code",
      "metadata": {
        "colab": {
          "base_uri": "https://localhost:8080/"
        },
        "id": "E38nuUnBbXTD",
        "outputId": "5ae4fc96-16ea-4ec1-99b2-0ac1abfb6a86"
      },
      "source": [
        "print('The max value of yredu:', (df['yredu']).max())\n",
        "print('The min value of yredu:', (df['yredu']).min())\n",
        "print('The avg value of yredu:', (df['yredu']).mean())"
      ],
      "execution_count": 208,
      "outputs": [
        {
          "output_type": "stream",
          "text": [
            "The max value of yredu: 1.0\n",
            "The min value of yredu: 0.0\n",
            "The avg value of yredu: 0.6053786226875428\n"
          ],
          "name": "stdout"
        }
      ]
    },
    {
      "cell_type": "code",
      "metadata": {
        "colab": {
          "base_uri": "https://localhost:8080/"
        },
        "id": "NDUG4H51bbR-",
        "outputId": "eacd8d02-b3c2-4c67-afa4-4048a48dd01c"
      },
      "source": [
        "print('The max value of capgain:', (df['capgain']).max())\n",
        "print('The min value of capgain:', (df['capgain']).min())\n",
        "print('The avg value of capgain:', (df['capgain']).mean())"
      ],
      "execution_count": 207,
      "outputs": [
        {
          "output_type": "stream",
          "text": [
            "The max value of capgain: 1.0\n",
            "The min value of capgain: 0.0\n",
            "The avg value of capgain: 0.010776596203049367\n"
          ],
          "name": "stdout"
        }
      ]
    },
    {
      "cell_type": "code",
      "metadata": {
        "colab": {
          "base_uri": "https://localhost:8080/"
        },
        "id": "VrlVMegGbfYB",
        "outputId": "27608fe5-fadb-43ab-d98f-9dfdd6f0a7a1"
      },
      "source": [
        "print('The max value of caploss:', (df['caploss']).max())\n",
        "print('The min value of caploss:', (df['caploss']).min())\n",
        "print('The avg value of caploss:', (df['caploss']).mean())"
      ],
      "execution_count": 206,
      "outputs": [
        {
          "output_type": "stream",
          "text": [
            "The max value of caploss: 1.0\n",
            "The min value of caploss: 0.0\n",
            "The avg value of caploss: 0.02004220150022017\n"
          ],
          "name": "stdout"
        }
      ]
    },
    {
      "cell_type": "code",
      "metadata": {
        "colab": {
          "base_uri": "https://localhost:8080/"
        },
        "id": "KjiruaIYbhzT",
        "outputId": "8d37d78c-06e6-4c4f-efb8-d0ea2d8a0c06"
      },
      "source": [
        "print('The max value of workhr:', (df['workhr']).max())\n",
        "print('The min value of workhr:', (df['workhr']).min())\n",
        "print('The avg value of workhr:', (df['workhr']).mean())"
      ],
      "execution_count": 205,
      "outputs": [
        {
          "output_type": "stream",
          "text": [
            "The max value of workhr: 1.0\n",
            "The min value of workhr: 0.0\n",
            "The avg value of workhr: 0.4024230188989772\n"
          ],
          "name": "stdout"
        }
      ]
    },
    {
      "cell_type": "code",
      "metadata": {
        "id": "XkbPKN_rNM-J"
      },
      "source": [
        "df[\"age\"] = (df[\"age\"]-(df['age']).min()) / ((df['age']).max() - (df['age']).min())\n",
        "df[\"yredu\"] = (df[\"yredu\"]-(df['yredu']).min()) / ((df['yredu']).max() - (df['yredu']).min())\n",
        "df[\"capgain\"] = (df[\"capgain\"]-(df['capgain']).min()) / ((df['capgain']).max() - (df['capgain']).min())\n",
        "df[\"caploss\"] = (df[\"caploss\"]-(df['caploss']).min()) / ((df['caploss']).max() - (df['caploss']).min())\n",
        "df[\"workhr\"] = (df[\"workhr\"]-(df['workhr']).min()) / ((df['workhr']).max() - (df['workhr']).min())"
      ],
      "execution_count": 209,
      "outputs": []
    },
    {
      "cell_type": "markdown",
      "metadata": {
        "id": "qbfMly4R1pqK"
      },
      "source": [
        "### Part (b) Categorical Features [1 pt]\n",
        "\n",
        "What percentage of people in our data set are male? Note that the data labels all have an unfortunate space in the beginning, e.g. \" Male\" instead of \"Male\".\n",
        "\n",
        "What percentage of people in our data set are female?"
      ]
    },
    {
      "cell_type": "code",
      "metadata": {
        "id": "DjAjcsB_1pqK",
        "colab": {
          "base_uri": "https://localhost:8080/"
        },
        "outputId": "6159abb5-364e-4ad4-e32a-e83643434407"
      },
      "source": [
        "# hint: you can do something like this in pandas\n",
        "sum(df[\"sex\"] == \" Male\")"
      ],
      "execution_count": null,
      "outputs": [
        {
          "output_type": "execute_result",
          "data": {
            "text/plain": [
              "21790"
            ]
          },
          "metadata": {
            "tags": []
          },
          "execution_count": 14
        }
      ]
    },
    {
      "cell_type": "code",
      "metadata": {
        "colab": {
          "base_uri": "https://localhost:8080/"
        },
        "id": "HmuGxoxGNkeK",
        "outputId": "720da478-4e29-4478-da72-ee639f1ea469"
      },
      "source": [
        "print(\"percentage of people in our data set are males are:\", sum(df[\"sex\"] == \" Male\")/32561*100, \"%\")"
      ],
      "execution_count": null,
      "outputs": [
        {
          "output_type": "stream",
          "text": [
            "percentage of people in our data set are males are: 66.92054912318419 %\n"
          ],
          "name": "stdout"
        }
      ]
    },
    {
      "cell_type": "code",
      "metadata": {
        "colab": {
          "base_uri": "https://localhost:8080/"
        },
        "id": "YL-7A21kNlyG",
        "outputId": "072ad6f8-f88f-46f6-b0e6-d9d250976312"
      },
      "source": [
        "print(\"percentage of people in our data set are females are:\", sum(df[\"sex\"] == \" Female\")/32561*100, \"%\")"
      ],
      "execution_count": null,
      "outputs": [
        {
          "output_type": "stream",
          "text": [
            "percentage of people in our data set are females are: 33.07945087681583 %\n"
          ],
          "name": "stdout"
        }
      ]
    },
    {
      "cell_type": "markdown",
      "metadata": {
        "id": "eGVw7pqL1pqN"
      },
      "source": [
        "### Part (c) [2 pt]\n",
        "\n",
        "Before proceeding, we will modify our data frame in a couple more ways:\n",
        "\n",
        "1. We will restrict ourselves to using a subset of the features (to simplify our autoencoder)\n",
        "2. We will remove any records (rows) already containing missing values, and store them in a second dataframe. We will only use records without missing values to train our autoencoder.\n",
        "\n",
        "Both of these steps are done for you, below.\n",
        "\n",
        "How many records contained missing features? What percentage of records were removed?"
      ]
    },
    {
      "cell_type": "code",
      "metadata": {
        "collapsed": true,
        "id": "z6ewPUdv1pqO"
      },
      "source": [
        "contcols = [\"age\", \"yredu\", \"capgain\", \"caploss\", \"workhr\"]\n",
        "catcols = [\"work\", \"marriage\", \"occupation\", \"edu\", \"relationship\", \"sex\"]\n",
        "features = contcols + catcols\n",
        "df = df[features]"
      ],
      "execution_count": 210,
      "outputs": []
    },
    {
      "cell_type": "code",
      "metadata": {
        "collapsed": true,
        "id": "fjdVll5a1pqQ"
      },
      "source": [
        "missing = pd.concat([df[c] == \" ?\" for c in catcols], axis=1).any(axis=1)\n",
        "df_with_missing = df[missing]\n",
        "df_not_missing = df[~missing]"
      ],
      "execution_count": 211,
      "outputs": []
    },
    {
      "cell_type": "code",
      "metadata": {
        "colab": {
          "base_uri": "https://localhost:8080/"
        },
        "id": "8mQCEr49Qe5u",
        "outputId": "7a9f5e4a-ba65-4afb-9289-5ed0de69aa6f"
      },
      "source": [
        "print(\"number of records with missing features:\", len(df_with_missing))\n",
        "print('percentage of records being removed:',(df_with_missing.shape[0]/len(df)*100),'%')"
      ],
      "execution_count": 213,
      "outputs": [
        {
          "output_type": "stream",
          "text": [
            "number of records with missing features: 1843\n",
            "percentage of records being removed: 5.660145572924664 %\n"
          ],
          "name": "stdout"
        }
      ]
    },
    {
      "cell_type": "markdown",
      "metadata": {
        "id": "XuEpndTQ1pqU"
      },
      "source": [
        "### Part (d) One-Hot Encoding [1 pt]\n",
        "\n",
        "What are all the possible values of the feature \"work\" in `df_not_missing`? You may find the Python function `set` useful."
      ]
    },
    {
      "cell_type": "code",
      "metadata": {
        "id": "iKFh4owE1pqV",
        "colab": {
          "base_uri": "https://localhost:8080/"
        },
        "outputId": "6d2512ab-fb7f-4266-83ed-52096e6b0580"
      },
      "source": [
        "print(set(df_not_missing[\"work\"]))"
      ],
      "execution_count": null,
      "outputs": [
        {
          "output_type": "stream",
          "text": [
            "{' Federal-gov', ' State-gov', ' Self-emp-inc', ' Without-pay', ' Local-gov', ' Private', ' Self-emp-not-inc'}\n"
          ],
          "name": "stdout"
        }
      ]
    },
    {
      "cell_type": "markdown",
      "metadata": {
        "id": "COv3HaKr1pqY"
      },
      "source": [
        "We will be using a one-hot encoding to represent each of the categorical variables.\n",
        "Our autoencoder will be trained using these one-hot encodings.\n",
        "\n",
        "We will use the pandas function `get_dummies` to produce one-hot encodings\n",
        "for all of the categorical variables in `df_not_missing`. "
      ]
    },
    {
      "cell_type": "code",
      "metadata": {
        "collapsed": true,
        "id": "eKlSYmJg1pqZ"
      },
      "source": [
        "data = pd.get_dummies(df_not_missing)"
      ],
      "execution_count": null,
      "outputs": []
    },
    {
      "cell_type": "code",
      "metadata": {
        "id": "3y7nTZ7H1pqb",
        "scrolled": true,
        "colab": {
          "base_uri": "https://localhost:8080/",
          "height": 507
        },
        "outputId": "6bcd556a-a885-4a32-fe01-3f1b01340cbb"
      },
      "source": [
        "data"
      ],
      "execution_count": 214,
      "outputs": [
        {
          "output_type": "execute_result",
          "data": {
            "text/html": [
              "<div>\n",
              "<style scoped>\n",
              "    .dataframe tbody tr th:only-of-type {\n",
              "        vertical-align: middle;\n",
              "    }\n",
              "\n",
              "    .dataframe tbody tr th {\n",
              "        vertical-align: top;\n",
              "    }\n",
              "\n",
              "    .dataframe thead th {\n",
              "        text-align: right;\n",
              "    }\n",
              "</style>\n",
              "<table border=\"1\" class=\"dataframe\">\n",
              "  <thead>\n",
              "    <tr style=\"text-align: right;\">\n",
              "      <th></th>\n",
              "      <th>age</th>\n",
              "      <th>yredu</th>\n",
              "      <th>capgain</th>\n",
              "      <th>caploss</th>\n",
              "      <th>workhr</th>\n",
              "      <th>work_ Federal-gov</th>\n",
              "      <th>work_ Local-gov</th>\n",
              "      <th>work_ Private</th>\n",
              "      <th>work_ Self-emp-inc</th>\n",
              "      <th>work_ Self-emp-not-inc</th>\n",
              "      <th>work_ State-gov</th>\n",
              "      <th>work_ Without-pay</th>\n",
              "      <th>marriage_ Divorced</th>\n",
              "      <th>marriage_ Married-AF-spouse</th>\n",
              "      <th>marriage_ Married-civ-spouse</th>\n",
              "      <th>marriage_ Married-spouse-absent</th>\n",
              "      <th>marriage_ Never-married</th>\n",
              "      <th>marriage_ Separated</th>\n",
              "      <th>marriage_ Widowed</th>\n",
              "      <th>occupation_ Adm-clerical</th>\n",
              "      <th>occupation_ Armed-Forces</th>\n",
              "      <th>occupation_ Craft-repair</th>\n",
              "      <th>occupation_ Exec-managerial</th>\n",
              "      <th>occupation_ Farming-fishing</th>\n",
              "      <th>occupation_ Handlers-cleaners</th>\n",
              "      <th>occupation_ Machine-op-inspct</th>\n",
              "      <th>occupation_ Other-service</th>\n",
              "      <th>occupation_ Priv-house-serv</th>\n",
              "      <th>occupation_ Prof-specialty</th>\n",
              "      <th>occupation_ Protective-serv</th>\n",
              "      <th>occupation_ Sales</th>\n",
              "      <th>occupation_ Tech-support</th>\n",
              "      <th>occupation_ Transport-moving</th>\n",
              "      <th>edu_ 10th</th>\n",
              "      <th>edu_ 11th</th>\n",
              "      <th>edu_ 12th</th>\n",
              "      <th>edu_ 1st-4th</th>\n",
              "      <th>edu_ 5th-6th</th>\n",
              "      <th>edu_ 7th-8th</th>\n",
              "      <th>edu_ 9th</th>\n",
              "      <th>edu_ Assoc-acdm</th>\n",
              "      <th>edu_ Assoc-voc</th>\n",
              "      <th>edu_ Bachelors</th>\n",
              "      <th>edu_ Doctorate</th>\n",
              "      <th>edu_ HS-grad</th>\n",
              "      <th>edu_ Masters</th>\n",
              "      <th>edu_ Preschool</th>\n",
              "      <th>edu_ Prof-school</th>\n",
              "      <th>edu_ Some-college</th>\n",
              "      <th>relationship_ Husband</th>\n",
              "      <th>relationship_ Not-in-family</th>\n",
              "      <th>relationship_ Other-relative</th>\n",
              "      <th>relationship_ Own-child</th>\n",
              "      <th>relationship_ Unmarried</th>\n",
              "      <th>relationship_ Wife</th>\n",
              "      <th>sex_ Female</th>\n",
              "      <th>sex_ Male</th>\n",
              "    </tr>\n",
              "  </thead>\n",
              "  <tbody>\n",
              "    <tr>\n",
              "      <th>0</th>\n",
              "      <td>0.301370</td>\n",
              "      <td>0.800000</td>\n",
              "      <td>0.021740</td>\n",
              "      <td>0.0</td>\n",
              "      <td>0.397959</td>\n",
              "      <td>0</td>\n",
              "      <td>0</td>\n",
              "      <td>0</td>\n",
              "      <td>0</td>\n",
              "      <td>0</td>\n",
              "      <td>1</td>\n",
              "      <td>0</td>\n",
              "      <td>0</td>\n",
              "      <td>0</td>\n",
              "      <td>0</td>\n",
              "      <td>0</td>\n",
              "      <td>1</td>\n",
              "      <td>0</td>\n",
              "      <td>0</td>\n",
              "      <td>1</td>\n",
              "      <td>0</td>\n",
              "      <td>0</td>\n",
              "      <td>0</td>\n",
              "      <td>0</td>\n",
              "      <td>0</td>\n",
              "      <td>0</td>\n",
              "      <td>0</td>\n",
              "      <td>0</td>\n",
              "      <td>0</td>\n",
              "      <td>0</td>\n",
              "      <td>0</td>\n",
              "      <td>0</td>\n",
              "      <td>0</td>\n",
              "      <td>0</td>\n",
              "      <td>0</td>\n",
              "      <td>0</td>\n",
              "      <td>0</td>\n",
              "      <td>0</td>\n",
              "      <td>0</td>\n",
              "      <td>0</td>\n",
              "      <td>0</td>\n",
              "      <td>0</td>\n",
              "      <td>1</td>\n",
              "      <td>0</td>\n",
              "      <td>0</td>\n",
              "      <td>0</td>\n",
              "      <td>0</td>\n",
              "      <td>0</td>\n",
              "      <td>0</td>\n",
              "      <td>0</td>\n",
              "      <td>1</td>\n",
              "      <td>0</td>\n",
              "      <td>0</td>\n",
              "      <td>0</td>\n",
              "      <td>0</td>\n",
              "      <td>0</td>\n",
              "      <td>1</td>\n",
              "    </tr>\n",
              "    <tr>\n",
              "      <th>1</th>\n",
              "      <td>0.452055</td>\n",
              "      <td>0.800000</td>\n",
              "      <td>0.000000</td>\n",
              "      <td>0.0</td>\n",
              "      <td>0.122449</td>\n",
              "      <td>0</td>\n",
              "      <td>0</td>\n",
              "      <td>0</td>\n",
              "      <td>0</td>\n",
              "      <td>1</td>\n",
              "      <td>0</td>\n",
              "      <td>0</td>\n",
              "      <td>0</td>\n",
              "      <td>0</td>\n",
              "      <td>1</td>\n",
              "      <td>0</td>\n",
              "      <td>0</td>\n",
              "      <td>0</td>\n",
              "      <td>0</td>\n",
              "      <td>0</td>\n",
              "      <td>0</td>\n",
              "      <td>0</td>\n",
              "      <td>1</td>\n",
              "      <td>0</td>\n",
              "      <td>0</td>\n",
              "      <td>0</td>\n",
              "      <td>0</td>\n",
              "      <td>0</td>\n",
              "      <td>0</td>\n",
              "      <td>0</td>\n",
              "      <td>0</td>\n",
              "      <td>0</td>\n",
              "      <td>0</td>\n",
              "      <td>0</td>\n",
              "      <td>0</td>\n",
              "      <td>0</td>\n",
              "      <td>0</td>\n",
              "      <td>0</td>\n",
              "      <td>0</td>\n",
              "      <td>0</td>\n",
              "      <td>0</td>\n",
              "      <td>0</td>\n",
              "      <td>1</td>\n",
              "      <td>0</td>\n",
              "      <td>0</td>\n",
              "      <td>0</td>\n",
              "      <td>0</td>\n",
              "      <td>0</td>\n",
              "      <td>0</td>\n",
              "      <td>1</td>\n",
              "      <td>0</td>\n",
              "      <td>0</td>\n",
              "      <td>0</td>\n",
              "      <td>0</td>\n",
              "      <td>0</td>\n",
              "      <td>0</td>\n",
              "      <td>1</td>\n",
              "    </tr>\n",
              "    <tr>\n",
              "      <th>2</th>\n",
              "      <td>0.287671</td>\n",
              "      <td>0.533333</td>\n",
              "      <td>0.000000</td>\n",
              "      <td>0.0</td>\n",
              "      <td>0.397959</td>\n",
              "      <td>0</td>\n",
              "      <td>0</td>\n",
              "      <td>1</td>\n",
              "      <td>0</td>\n",
              "      <td>0</td>\n",
              "      <td>0</td>\n",
              "      <td>0</td>\n",
              "      <td>1</td>\n",
              "      <td>0</td>\n",
              "      <td>0</td>\n",
              "      <td>0</td>\n",
              "      <td>0</td>\n",
              "      <td>0</td>\n",
              "      <td>0</td>\n",
              "      <td>0</td>\n",
              "      <td>0</td>\n",
              "      <td>0</td>\n",
              "      <td>0</td>\n",
              "      <td>0</td>\n",
              "      <td>1</td>\n",
              "      <td>0</td>\n",
              "      <td>0</td>\n",
              "      <td>0</td>\n",
              "      <td>0</td>\n",
              "      <td>0</td>\n",
              "      <td>0</td>\n",
              "      <td>0</td>\n",
              "      <td>0</td>\n",
              "      <td>0</td>\n",
              "      <td>0</td>\n",
              "      <td>0</td>\n",
              "      <td>0</td>\n",
              "      <td>0</td>\n",
              "      <td>0</td>\n",
              "      <td>0</td>\n",
              "      <td>0</td>\n",
              "      <td>0</td>\n",
              "      <td>0</td>\n",
              "      <td>0</td>\n",
              "      <td>1</td>\n",
              "      <td>0</td>\n",
              "      <td>0</td>\n",
              "      <td>0</td>\n",
              "      <td>0</td>\n",
              "      <td>0</td>\n",
              "      <td>1</td>\n",
              "      <td>0</td>\n",
              "      <td>0</td>\n",
              "      <td>0</td>\n",
              "      <td>0</td>\n",
              "      <td>0</td>\n",
              "      <td>1</td>\n",
              "    </tr>\n",
              "    <tr>\n",
              "      <th>3</th>\n",
              "      <td>0.493151</td>\n",
              "      <td>0.400000</td>\n",
              "      <td>0.000000</td>\n",
              "      <td>0.0</td>\n",
              "      <td>0.397959</td>\n",
              "      <td>0</td>\n",
              "      <td>0</td>\n",
              "      <td>1</td>\n",
              "      <td>0</td>\n",
              "      <td>0</td>\n",
              "      <td>0</td>\n",
              "      <td>0</td>\n",
              "      <td>0</td>\n",
              "      <td>0</td>\n",
              "      <td>1</td>\n",
              "      <td>0</td>\n",
              "      <td>0</td>\n",
              "      <td>0</td>\n",
              "      <td>0</td>\n",
              "      <td>0</td>\n",
              "      <td>0</td>\n",
              "      <td>0</td>\n",
              "      <td>0</td>\n",
              "      <td>0</td>\n",
              "      <td>1</td>\n",
              "      <td>0</td>\n",
              "      <td>0</td>\n",
              "      <td>0</td>\n",
              "      <td>0</td>\n",
              "      <td>0</td>\n",
              "      <td>0</td>\n",
              "      <td>0</td>\n",
              "      <td>0</td>\n",
              "      <td>0</td>\n",
              "      <td>1</td>\n",
              "      <td>0</td>\n",
              "      <td>0</td>\n",
              "      <td>0</td>\n",
              "      <td>0</td>\n",
              "      <td>0</td>\n",
              "      <td>0</td>\n",
              "      <td>0</td>\n",
              "      <td>0</td>\n",
              "      <td>0</td>\n",
              "      <td>0</td>\n",
              "      <td>0</td>\n",
              "      <td>0</td>\n",
              "      <td>0</td>\n",
              "      <td>0</td>\n",
              "      <td>1</td>\n",
              "      <td>0</td>\n",
              "      <td>0</td>\n",
              "      <td>0</td>\n",
              "      <td>0</td>\n",
              "      <td>0</td>\n",
              "      <td>0</td>\n",
              "      <td>1</td>\n",
              "    </tr>\n",
              "    <tr>\n",
              "      <th>4</th>\n",
              "      <td>0.150685</td>\n",
              "      <td>0.800000</td>\n",
              "      <td>0.000000</td>\n",
              "      <td>0.0</td>\n",
              "      <td>0.397959</td>\n",
              "      <td>0</td>\n",
              "      <td>0</td>\n",
              "      <td>1</td>\n",
              "      <td>0</td>\n",
              "      <td>0</td>\n",
              "      <td>0</td>\n",
              "      <td>0</td>\n",
              "      <td>0</td>\n",
              "      <td>0</td>\n",
              "      <td>1</td>\n",
              "      <td>0</td>\n",
              "      <td>0</td>\n",
              "      <td>0</td>\n",
              "      <td>0</td>\n",
              "      <td>0</td>\n",
              "      <td>0</td>\n",
              "      <td>0</td>\n",
              "      <td>0</td>\n",
              "      <td>0</td>\n",
              "      <td>0</td>\n",
              "      <td>0</td>\n",
              "      <td>0</td>\n",
              "      <td>0</td>\n",
              "      <td>1</td>\n",
              "      <td>0</td>\n",
              "      <td>0</td>\n",
              "      <td>0</td>\n",
              "      <td>0</td>\n",
              "      <td>0</td>\n",
              "      <td>0</td>\n",
              "      <td>0</td>\n",
              "      <td>0</td>\n",
              "      <td>0</td>\n",
              "      <td>0</td>\n",
              "      <td>0</td>\n",
              "      <td>0</td>\n",
              "      <td>0</td>\n",
              "      <td>1</td>\n",
              "      <td>0</td>\n",
              "      <td>0</td>\n",
              "      <td>0</td>\n",
              "      <td>0</td>\n",
              "      <td>0</td>\n",
              "      <td>0</td>\n",
              "      <td>0</td>\n",
              "      <td>0</td>\n",
              "      <td>0</td>\n",
              "      <td>0</td>\n",
              "      <td>0</td>\n",
              "      <td>1</td>\n",
              "      <td>1</td>\n",
              "      <td>0</td>\n",
              "    </tr>\n",
              "    <tr>\n",
              "      <th>...</th>\n",
              "      <td>...</td>\n",
              "      <td>...</td>\n",
              "      <td>...</td>\n",
              "      <td>...</td>\n",
              "      <td>...</td>\n",
              "      <td>...</td>\n",
              "      <td>...</td>\n",
              "      <td>...</td>\n",
              "      <td>...</td>\n",
              "      <td>...</td>\n",
              "      <td>...</td>\n",
              "      <td>...</td>\n",
              "      <td>...</td>\n",
              "      <td>...</td>\n",
              "      <td>...</td>\n",
              "      <td>...</td>\n",
              "      <td>...</td>\n",
              "      <td>...</td>\n",
              "      <td>...</td>\n",
              "      <td>...</td>\n",
              "      <td>...</td>\n",
              "      <td>...</td>\n",
              "      <td>...</td>\n",
              "      <td>...</td>\n",
              "      <td>...</td>\n",
              "      <td>...</td>\n",
              "      <td>...</td>\n",
              "      <td>...</td>\n",
              "      <td>...</td>\n",
              "      <td>...</td>\n",
              "      <td>...</td>\n",
              "      <td>...</td>\n",
              "      <td>...</td>\n",
              "      <td>...</td>\n",
              "      <td>...</td>\n",
              "      <td>...</td>\n",
              "      <td>...</td>\n",
              "      <td>...</td>\n",
              "      <td>...</td>\n",
              "      <td>...</td>\n",
              "      <td>...</td>\n",
              "      <td>...</td>\n",
              "      <td>...</td>\n",
              "      <td>...</td>\n",
              "      <td>...</td>\n",
              "      <td>...</td>\n",
              "      <td>...</td>\n",
              "      <td>...</td>\n",
              "      <td>...</td>\n",
              "      <td>...</td>\n",
              "      <td>...</td>\n",
              "      <td>...</td>\n",
              "      <td>...</td>\n",
              "      <td>...</td>\n",
              "      <td>...</td>\n",
              "      <td>...</td>\n",
              "      <td>...</td>\n",
              "    </tr>\n",
              "    <tr>\n",
              "      <th>32556</th>\n",
              "      <td>0.136986</td>\n",
              "      <td>0.733333</td>\n",
              "      <td>0.000000</td>\n",
              "      <td>0.0</td>\n",
              "      <td>0.377551</td>\n",
              "      <td>0</td>\n",
              "      <td>0</td>\n",
              "      <td>1</td>\n",
              "      <td>0</td>\n",
              "      <td>0</td>\n",
              "      <td>0</td>\n",
              "      <td>0</td>\n",
              "      <td>0</td>\n",
              "      <td>0</td>\n",
              "      <td>1</td>\n",
              "      <td>0</td>\n",
              "      <td>0</td>\n",
              "      <td>0</td>\n",
              "      <td>0</td>\n",
              "      <td>0</td>\n",
              "      <td>0</td>\n",
              "      <td>0</td>\n",
              "      <td>0</td>\n",
              "      <td>0</td>\n",
              "      <td>0</td>\n",
              "      <td>0</td>\n",
              "      <td>0</td>\n",
              "      <td>0</td>\n",
              "      <td>0</td>\n",
              "      <td>0</td>\n",
              "      <td>0</td>\n",
              "      <td>1</td>\n",
              "      <td>0</td>\n",
              "      <td>0</td>\n",
              "      <td>0</td>\n",
              "      <td>0</td>\n",
              "      <td>0</td>\n",
              "      <td>0</td>\n",
              "      <td>0</td>\n",
              "      <td>0</td>\n",
              "      <td>1</td>\n",
              "      <td>0</td>\n",
              "      <td>0</td>\n",
              "      <td>0</td>\n",
              "      <td>0</td>\n",
              "      <td>0</td>\n",
              "      <td>0</td>\n",
              "      <td>0</td>\n",
              "      <td>0</td>\n",
              "      <td>0</td>\n",
              "      <td>0</td>\n",
              "      <td>0</td>\n",
              "      <td>0</td>\n",
              "      <td>0</td>\n",
              "      <td>1</td>\n",
              "      <td>1</td>\n",
              "      <td>0</td>\n",
              "    </tr>\n",
              "    <tr>\n",
              "      <th>32557</th>\n",
              "      <td>0.315068</td>\n",
              "      <td>0.533333</td>\n",
              "      <td>0.000000</td>\n",
              "      <td>0.0</td>\n",
              "      <td>0.397959</td>\n",
              "      <td>0</td>\n",
              "      <td>0</td>\n",
              "      <td>1</td>\n",
              "      <td>0</td>\n",
              "      <td>0</td>\n",
              "      <td>0</td>\n",
              "      <td>0</td>\n",
              "      <td>0</td>\n",
              "      <td>0</td>\n",
              "      <td>1</td>\n",
              "      <td>0</td>\n",
              "      <td>0</td>\n",
              "      <td>0</td>\n",
              "      <td>0</td>\n",
              "      <td>0</td>\n",
              "      <td>0</td>\n",
              "      <td>0</td>\n",
              "      <td>0</td>\n",
              "      <td>0</td>\n",
              "      <td>0</td>\n",
              "      <td>1</td>\n",
              "      <td>0</td>\n",
              "      <td>0</td>\n",
              "      <td>0</td>\n",
              "      <td>0</td>\n",
              "      <td>0</td>\n",
              "      <td>0</td>\n",
              "      <td>0</td>\n",
              "      <td>0</td>\n",
              "      <td>0</td>\n",
              "      <td>0</td>\n",
              "      <td>0</td>\n",
              "      <td>0</td>\n",
              "      <td>0</td>\n",
              "      <td>0</td>\n",
              "      <td>0</td>\n",
              "      <td>0</td>\n",
              "      <td>0</td>\n",
              "      <td>0</td>\n",
              "      <td>1</td>\n",
              "      <td>0</td>\n",
              "      <td>0</td>\n",
              "      <td>0</td>\n",
              "      <td>0</td>\n",
              "      <td>1</td>\n",
              "      <td>0</td>\n",
              "      <td>0</td>\n",
              "      <td>0</td>\n",
              "      <td>0</td>\n",
              "      <td>0</td>\n",
              "      <td>0</td>\n",
              "      <td>1</td>\n",
              "    </tr>\n",
              "    <tr>\n",
              "      <th>32558</th>\n",
              "      <td>0.561644</td>\n",
              "      <td>0.533333</td>\n",
              "      <td>0.000000</td>\n",
              "      <td>0.0</td>\n",
              "      <td>0.397959</td>\n",
              "      <td>0</td>\n",
              "      <td>0</td>\n",
              "      <td>1</td>\n",
              "      <td>0</td>\n",
              "      <td>0</td>\n",
              "      <td>0</td>\n",
              "      <td>0</td>\n",
              "      <td>0</td>\n",
              "      <td>0</td>\n",
              "      <td>0</td>\n",
              "      <td>0</td>\n",
              "      <td>0</td>\n",
              "      <td>0</td>\n",
              "      <td>1</td>\n",
              "      <td>1</td>\n",
              "      <td>0</td>\n",
              "      <td>0</td>\n",
              "      <td>0</td>\n",
              "      <td>0</td>\n",
              "      <td>0</td>\n",
              "      <td>0</td>\n",
              "      <td>0</td>\n",
              "      <td>0</td>\n",
              "      <td>0</td>\n",
              "      <td>0</td>\n",
              "      <td>0</td>\n",
              "      <td>0</td>\n",
              "      <td>0</td>\n",
              "      <td>0</td>\n",
              "      <td>0</td>\n",
              "      <td>0</td>\n",
              "      <td>0</td>\n",
              "      <td>0</td>\n",
              "      <td>0</td>\n",
              "      <td>0</td>\n",
              "      <td>0</td>\n",
              "      <td>0</td>\n",
              "      <td>0</td>\n",
              "      <td>0</td>\n",
              "      <td>1</td>\n",
              "      <td>0</td>\n",
              "      <td>0</td>\n",
              "      <td>0</td>\n",
              "      <td>0</td>\n",
              "      <td>0</td>\n",
              "      <td>0</td>\n",
              "      <td>0</td>\n",
              "      <td>0</td>\n",
              "      <td>1</td>\n",
              "      <td>0</td>\n",
              "      <td>1</td>\n",
              "      <td>0</td>\n",
              "    </tr>\n",
              "    <tr>\n",
              "      <th>32559</th>\n",
              "      <td>0.068493</td>\n",
              "      <td>0.533333</td>\n",
              "      <td>0.000000</td>\n",
              "      <td>0.0</td>\n",
              "      <td>0.193878</td>\n",
              "      <td>0</td>\n",
              "      <td>0</td>\n",
              "      <td>1</td>\n",
              "      <td>0</td>\n",
              "      <td>0</td>\n",
              "      <td>0</td>\n",
              "      <td>0</td>\n",
              "      <td>0</td>\n",
              "      <td>0</td>\n",
              "      <td>0</td>\n",
              "      <td>0</td>\n",
              "      <td>1</td>\n",
              "      <td>0</td>\n",
              "      <td>0</td>\n",
              "      <td>1</td>\n",
              "      <td>0</td>\n",
              "      <td>0</td>\n",
              "      <td>0</td>\n",
              "      <td>0</td>\n",
              "      <td>0</td>\n",
              "      <td>0</td>\n",
              "      <td>0</td>\n",
              "      <td>0</td>\n",
              "      <td>0</td>\n",
              "      <td>0</td>\n",
              "      <td>0</td>\n",
              "      <td>0</td>\n",
              "      <td>0</td>\n",
              "      <td>0</td>\n",
              "      <td>0</td>\n",
              "      <td>0</td>\n",
              "      <td>0</td>\n",
              "      <td>0</td>\n",
              "      <td>0</td>\n",
              "      <td>0</td>\n",
              "      <td>0</td>\n",
              "      <td>0</td>\n",
              "      <td>0</td>\n",
              "      <td>0</td>\n",
              "      <td>1</td>\n",
              "      <td>0</td>\n",
              "      <td>0</td>\n",
              "      <td>0</td>\n",
              "      <td>0</td>\n",
              "      <td>0</td>\n",
              "      <td>0</td>\n",
              "      <td>0</td>\n",
              "      <td>1</td>\n",
              "      <td>0</td>\n",
              "      <td>0</td>\n",
              "      <td>0</td>\n",
              "      <td>1</td>\n",
              "    </tr>\n",
              "    <tr>\n",
              "      <th>32560</th>\n",
              "      <td>0.479452</td>\n",
              "      <td>0.533333</td>\n",
              "      <td>0.150242</td>\n",
              "      <td>0.0</td>\n",
              "      <td>0.397959</td>\n",
              "      <td>0</td>\n",
              "      <td>0</td>\n",
              "      <td>0</td>\n",
              "      <td>1</td>\n",
              "      <td>0</td>\n",
              "      <td>0</td>\n",
              "      <td>0</td>\n",
              "      <td>0</td>\n",
              "      <td>0</td>\n",
              "      <td>1</td>\n",
              "      <td>0</td>\n",
              "      <td>0</td>\n",
              "      <td>0</td>\n",
              "      <td>0</td>\n",
              "      <td>0</td>\n",
              "      <td>0</td>\n",
              "      <td>0</td>\n",
              "      <td>1</td>\n",
              "      <td>0</td>\n",
              "      <td>0</td>\n",
              "      <td>0</td>\n",
              "      <td>0</td>\n",
              "      <td>0</td>\n",
              "      <td>0</td>\n",
              "      <td>0</td>\n",
              "      <td>0</td>\n",
              "      <td>0</td>\n",
              "      <td>0</td>\n",
              "      <td>0</td>\n",
              "      <td>0</td>\n",
              "      <td>0</td>\n",
              "      <td>0</td>\n",
              "      <td>0</td>\n",
              "      <td>0</td>\n",
              "      <td>0</td>\n",
              "      <td>0</td>\n",
              "      <td>0</td>\n",
              "      <td>0</td>\n",
              "      <td>0</td>\n",
              "      <td>1</td>\n",
              "      <td>0</td>\n",
              "      <td>0</td>\n",
              "      <td>0</td>\n",
              "      <td>0</td>\n",
              "      <td>0</td>\n",
              "      <td>0</td>\n",
              "      <td>0</td>\n",
              "      <td>0</td>\n",
              "      <td>0</td>\n",
              "      <td>1</td>\n",
              "      <td>1</td>\n",
              "      <td>0</td>\n",
              "    </tr>\n",
              "  </tbody>\n",
              "</table>\n",
              "<p>30718 rows × 57 columns</p>\n",
              "</div>"
            ],
            "text/plain": [
              "            age     yredu   capgain  ...  relationship_ Wife  sex_ Female  sex_ Male\n",
              "0      0.301370  0.800000  0.021740  ...                   0            0          1\n",
              "1      0.452055  0.800000  0.000000  ...                   0            0          1\n",
              "2      0.287671  0.533333  0.000000  ...                   0            0          1\n",
              "3      0.493151  0.400000  0.000000  ...                   0            0          1\n",
              "4      0.150685  0.800000  0.000000  ...                   1            1          0\n",
              "...         ...       ...       ...  ...                 ...          ...        ...\n",
              "32556  0.136986  0.733333  0.000000  ...                   1            1          0\n",
              "32557  0.315068  0.533333  0.000000  ...                   0            0          1\n",
              "32558  0.561644  0.533333  0.000000  ...                   0            1          0\n",
              "32559  0.068493  0.533333  0.000000  ...                   0            0          1\n",
              "32560  0.479452  0.533333  0.150242  ...                   1            1          0\n",
              "\n",
              "[30718 rows x 57 columns]"
            ]
          },
          "metadata": {
            "tags": []
          },
          "execution_count": 214
        }
      ]
    },
    {
      "cell_type": "markdown",
      "metadata": {
        "id": "HwjDg1uM1pqe"
      },
      "source": [
        "### Part (e) One-Hot Encoding [2 pt]\n",
        "\n",
        "The dataframe `data` contains the cleaned and normalized data that we will use to train our denoising autoencoder.\n",
        "\n",
        "How many **columns** (features) are in the dataframe `data`?\n",
        "\n",
        "Briefly explain where that number come from."
      ]
    },
    {
      "cell_type": "markdown",
      "metadata": {
        "id": "c9zDkpHdRSFl"
      },
      "source": [
        "**Answer**\n",
        "There are 57 columns are in the dataframe data. \n",
        "\n",
        "The number comes from original 14 column with string value, plus their expanded categorical values that represented by a one-hot encoding. For example, the columns work expaned to 7 columns."
      ]
    },
    {
      "cell_type": "code",
      "metadata": {
        "id": "yjZ5N0Tl1pqf",
        "colab": {
          "base_uri": "https://localhost:8080/"
        },
        "outputId": "1882cb50-8ed8-4314-955d-4fb4bd9dd44c"
      },
      "source": [
        "print(\"There are\",len(data.columns),\"columns in the datafram data\")"
      ],
      "execution_count": null,
      "outputs": [
        {
          "output_type": "stream",
          "text": [
            "There are 57 columns in the datafram data\n"
          ],
          "name": "stdout"
        }
      ]
    },
    {
      "cell_type": "markdown",
      "metadata": {
        "id": "OEJ0Ci3l1pqh"
      },
      "source": [
        "### Part (f) One-Hot Conversion [3 pt]\n",
        "\n",
        "We will convert the pandas data frame `data` into numpy, so that\n",
        "it can be further converted into a PyTorch tensor.\n",
        "However, in doing so, we lose the column label information that\n",
        "a panda data frame automatically stores.\n",
        "\n",
        "Complete the function `get_categorical_value` that will return\n",
        "the named value of a feature given a one-hot embedding.\n",
        "You may find the global variables `cat_index` and `cat_values`\n",
        "useful. (Display them and figure out what they are first.)\n",
        "\n",
        "We will need this function in the next part of the lab\n",
        "to interpret our autoencoder outputs. So, the input\n",
        "to our function `get_categorical_values` might not \n",
        "actually be \"one-hot\" -- the input may instead \n",
        "contain real-valued predictions from our neural network."
      ]
    },
    {
      "cell_type": "code",
      "metadata": {
        "collapsed": true,
        "id": "ZmovX6gu1pqi"
      },
      "source": [
        "datanp = data.values.astype(np.float32)"
      ],
      "execution_count": null,
      "outputs": []
    },
    {
      "cell_type": "code",
      "metadata": {
        "collapsed": true,
        "id": "YRIa5MBd1pql"
      },
      "source": [
        "cat_index = {}  # Mapping of feature -> start index of feature in a record\n",
        "cat_values = {} # Mapping of feature -> list of categorical values the feature can take\n",
        "\n",
        "# build up the cat_index and cat_values dictionary\n",
        "for i, header in enumerate(data.keys()):\n",
        "    if \"_\" in header: # categorical header\n",
        "        feature, value = header.split()\n",
        "        feature = feature[:-1] # remove the last char; it is always an underscore\n",
        "        if feature not in cat_index:\n",
        "            cat_index[feature] = i\n",
        "            cat_values[feature] = [value]\n",
        "        else:\n",
        "            cat_values[feature].append(value)\n",
        "\n",
        "def get_onehot(record, feature):\n",
        "    \"\"\"\n",
        "    Return the portion of `record` that is the one-hot encoding\n",
        "    of `feature`. For example, since the feature \"work\" is stored\n",
        "    in the indices [5:12] in each record, calling `get_range(record, \"work\")`\n",
        "    is equivalent to accessing `record[5:12]`.\n",
        "    \n",
        "    Args:\n",
        "        - record: a numpy array representing one record, formatted\n",
        "                  the same way as a row in `data.np`\n",
        "        - feature: a string, should be an element of `catcols`\n",
        "    \"\"\"\n",
        "    start_index = cat_index[feature]\n",
        "    stop_index = cat_index[feature] + len(cat_values[feature])\n",
        "    return record[start_index:stop_index]\n",
        "\n",
        "def get_categorical_value(onehot, feature):\n",
        "    \"\"\"\n",
        "    Return the categorical value name of a feature given\n",
        "    a one-hot vector representing the feature.\n",
        "    \n",
        "    Args:\n",
        "        - onehot: a numpy array one-hot representation of the feature\n",
        "        - feature: a string, should be an element of `catcols`\n",
        "        \n",
        "    Examples:\n",
        "    \n",
        "    >>> get_categorical_value(np.array([0., 0., 0., 0., 0., 1., 0.]), \"work\")\n",
        "    'State-gov'\n",
        "    >>> get_categorical_value(np.array([0.1, 0., 1.1, 0.2, 0., 1., 0.]), \"work\")\n",
        "    'Private'\n",
        "    \"\"\"\n",
        "    # <----- TODO: WRITE YOUR CODE HERE ----->\n",
        "    # You may find the variables `cat_index` and `cat_values` \n",
        "    # (created above) useful.\n",
        "    \n",
        "    max_pos = np.argmax(onehot)\n",
        "    category = cat_values[feature]\n",
        "    return cat_values[feature][max_pos]"
      ],
      "execution_count": null,
      "outputs": []
    },
    {
      "cell_type": "code",
      "metadata": {
        "colab": {
          "base_uri": "https://localhost:8080/"
        },
        "id": "3J30HvlHuIbI",
        "outputId": "a855606a-a2a9-426d-b6f6-b22af599164f"
      },
      "source": [
        "print(get_categorical_value(np.array([0., 0., 0., 0., 0., 1., 0.]), \"work\"))\n",
        "print(get_categorical_value(np.array([0.1, 0., 1.1, 0.2, 0., 1., 0.]), \"work\"))"
      ],
      "execution_count": null,
      "outputs": [
        {
          "output_type": "stream",
          "text": [
            "State-gov\n",
            "Private\n"
          ],
          "name": "stdout"
        }
      ]
    },
    {
      "cell_type": "code",
      "metadata": {
        "collapsed": true,
        "id": "T_XXxZdh1pqv"
      },
      "source": [
        "# more useful code, used during training, that depends on the function\n",
        "# you write above\n",
        "\n",
        "def get_feature(record, feature):\n",
        "    \"\"\"\n",
        "    Return the categorical feature value of a record\n",
        "    \"\"\"\n",
        "    onehot = get_onehot(record, feature)\n",
        "    return get_categorical_value(onehot, feature)\n",
        "\n",
        "def get_features(record):\n",
        "    \"\"\"\n",
        "    Return a dictionary of all categorical feature values of a record\n",
        "    \"\"\"\n",
        "    return { f: get_feature(record, f) for f in catcols }"
      ],
      "execution_count": null,
      "outputs": []
    },
    {
      "cell_type": "markdown",
      "metadata": {
        "id": "1_5ZZR_J1pqy"
      },
      "source": [
        "### Part (g) Train/Test Split [3 pt]\n",
        "\n",
        "Randomly split the data into approximately 70% training, 15% validation and 15% test.\n",
        "\n",
        "Report the number of items in your training, validation, and test set."
      ]
    },
    {
      "cell_type": "code",
      "metadata": {
        "id": "TE_fTJJf1pqz",
        "colab": {
          "base_uri": "https://localhost:8080/"
        },
        "outputId": "8f7b1636-4922-4edb-df9a-13cfbb46f0e9"
      },
      "source": [
        "# set the numpy seed for reproducibility\n",
        "# https://docs.scipy.org/doc/numpy/reference/generated/numpy.random.seed.html\n",
        "np.random.seed(50)\n",
        "\n",
        "# todo\n",
        "random.shuffle(datanp) # randomly shuffle the data\n",
        "\n",
        "train_index = int(datanp.shape[0]*0.7)\n",
        "val_index = train_index + int(datanp.shape[0]*0.15)\n",
        "\n",
        "train_data = datanp[:train_index]\n",
        "val_data = datanp[train_index:val_index+1]\n",
        "test_data = datanp[val_index+1:]\n",
        "\n",
        "print(\"number of items in training set:\", len(train_data))\n",
        "print(\"number of items in validation set:\", len(val_data))\n",
        "print(\"number of items in test set:\", len(test_data))\n"
      ],
      "execution_count": null,
      "outputs": [
        {
          "output_type": "stream",
          "text": [
            "number of items in training set: 21502\n",
            "number of items in validation set: 4608\n",
            "number of items in test set: 4608\n"
          ],
          "name": "stdout"
        }
      ]
    },
    {
      "cell_type": "markdown",
      "metadata": {
        "id": "h9wJAKOI1pq3"
      },
      "source": [
        "## Part 2. Model Setup [5 pt]\n",
        "\n",
        "### Part (a) [4 pt]\n",
        "\n",
        "Design a fully-connected autoencoder by modifying the `encoder` and `decoder`\n",
        "below.\n",
        "\n",
        "The input to this autoencoder will be the features of the `data`, with\n",
        "one categorical feature recorded as \"missing\". The output of the autoencoder\n",
        "should be the reconstruction of the same features, but with the missing\n",
        "value filled in.\n",
        "\n",
        "**Note**: Do not reduce the dimensionality of the input too much!\n",
        "The output of your embedding is expected to contain information \n",
        "about ~11 features."
      ]
    },
    {
      "cell_type": "code",
      "metadata": {
        "collapsed": true,
        "id": "f3F--tdn1pq3"
      },
      "source": [
        "from torch import nn\n",
        "\n",
        "class AutoEncoder(nn.Module):\n",
        "    def __init__(self):\n",
        "        super(AutoEncoder, self).__init__()\n",
        "        self.encoder = nn.Sequential(\n",
        "            nn.Linear(57, 57), # TODO -- FILL OUT THE CODE HERE!\n",
        "            nn.Linear(57, 40),\n",
        "            nn.Linear(40, 20)\n",
        "        )\n",
        "        self.decoder = nn.Sequential(\n",
        "            nn.Linear(20, 40),\n",
        "            nn.Linear(40, 57),\n",
        "            nn.Linear(57, 57), # TODO -- FILL OUT THE CODE HERE!\n",
        "            nn.Sigmoid() # get to the range (0, 1)\n",
        "        )\n",
        "\n",
        "    def forward(self, x):\n",
        "        x = self.encoder(x)\n",
        "        x = self.decoder(x)\n",
        "        return x"
      ],
      "execution_count": null,
      "outputs": []
    },
    {
      "cell_type": "markdown",
      "metadata": {
        "id": "kuEzTSAv1pq6"
      },
      "source": [
        "### Part (b) [1 pt]\n",
        "\n",
        "Explain why there is a sigmoid activation in the last step of the decoder.\n",
        "\n",
        "(**Note**: the values inside the data frame `data` and the training code in Part 3 might be helpful.)"
      ]
    },
    {
      "cell_type": "markdown",
      "metadata": {
        "id": "Znyf4v750I8g"
      },
      "source": [
        "**Answer:**\n",
        "Because the input data is normalized in range of 0 to 1 and the output should be the same in this range. The sigmoid activation is used to convert the value of ouput to between the range 0 and 1."
      ]
    },
    {
      "cell_type": "markdown",
      "metadata": {
        "id": "jYwqFWVl1pq8"
      },
      "source": [
        "## Part 3. Training [18] \n",
        "\n",
        "### Part (a) [6 pt]\n",
        "\n",
        "We will train our autoencoder in the following way:\n",
        "\n",
        "- In each iteration, we will hide one of the categorical features using the `zero_out_random_features` function\n",
        "- We will pass the data with one missing feature through the autoencoder, and obtain a reconstruction\n",
        "- We will check how close the reconstruction is compared to the original data -- including the value of the missing feature\n",
        "\n",
        "Complete the code to train the autoencoder, and plot the training and validation loss every few iterations.\n",
        "You may also want to plot training and validation \"accuracy\" every few iterations, as we will define in\n",
        "part (b). You may also want to checkpoint your model every few iterations or epochs.\n",
        "\n",
        "Use `nn.MSELoss()` as your loss function. (Side note: you might recognize that this loss function is not\n",
        "ideal for this problem, but we will use it anyway.)"
      ]
    },
    {
      "cell_type": "code",
      "metadata": {
        "collapsed": true,
        "id": "IDQA_-dS1pq9"
      },
      "source": [
        "def zero_out_feature(records, feature):\n",
        "    \"\"\" Set the feature missing in records, by setting the appropriate\n",
        "    columns of records to 0\n",
        "    \"\"\"\n",
        "    start_index = cat_index[feature]\n",
        "    stop_index = cat_index[feature] + len(cat_values[feature])\n",
        "    records[:, start_index:stop_index] = 0\n",
        "    return records\n",
        "\n",
        "def zero_out_random_feature(records):\n",
        "    \"\"\" Set one random feature missing in records, by setting the \n",
        "    appropriate columns of records to 0\n",
        "    \"\"\"\n",
        "    return zero_out_feature(records, random.choice(catcols))\n",
        "\n",
        "def train(model, train_loader, valid_loader, num_epochs=5, learning_rate=1e-4, batch_size=64):\n",
        "    \"\"\" Training loop. You should update this.\"\"\"\n",
        "    torch.manual_seed(42)\n",
        "    criterion = nn.MSELoss()\n",
        "    optimizer = torch.optim.Adam(model.parameters(), lr=learning_rate)\n",
        "    train_loss=[]\n",
        "    val_loss=[]\n",
        "    train_acc=[]\n",
        "    val_acc=[]\n",
        "    iters=[]\n",
        "    for epoch in range(num_epochs):\n",
        "        \n",
        "        for data in train_loader:\n",
        "            datam = zero_out_random_feature(data.clone()) # zero out one categorical feature\n",
        "            recon = model(datam)\n",
        "            loss = criterion(recon, data)\n",
        "            loss.backward()\n",
        "            optimizer.step()\n",
        "            optimizer.zero_grad()\n",
        "\n",
        "        iters.append(epoch)\n",
        "        train_loss.append( float(loss/batch_size) )\n",
        "        train_acc.append( get_accuracy(model, train_loader) )\n",
        "        \n",
        "       \n",
        "        for data in valid_loader:\n",
        "            datam = zero_out_random_feature(data.clone())\n",
        "            recon = model(datam)\n",
        "            valid_loss = criterion(recon, data)\n",
        "\n",
        "\n",
        "        val_loss.append( float(valid_loss/batch_size))\n",
        "        val_acc.append(get_accuracy(model, valid_loader))\n",
        "        print(\"Epoch {} - Training Accuracy: {}, Validation Accuracy: {}\".format(\n",
        "            epoch, train_acc[epoch], val_acc[epoch]))\n",
        "    print(\"Final Training Accuracy:\", train_acc[-1])\n",
        "    print(\"Final Validation Accuracy:\", val_acc[-1])\n",
        "    return train_loss, val_loss, train_acc, val_acc, iters\n",
        "    \n",
        "    \n",
        "\n"
      ],
      "execution_count": null,
      "outputs": []
    },
    {
      "cell_type": "markdown",
      "metadata": {
        "id": "WKk01pwx1pq_"
      },
      "source": [
        "### Part (b) [3 pt]\n",
        "\n",
        "While plotting training and validation loss is valuable, loss values are harder to compare\n",
        "than accuracy percentages. It would be nice to have a measure of \"accuracy\" in this problem.\n",
        "\n",
        "Since we will only be imputing missing categorical values, we will define an accuracy measure.\n",
        "For each record and for each categorical feature, we determine whether\n",
        "the model can predict the categorical feature given all the other features of the record.\n",
        "\n",
        "A function `get_accuracy` is written for you. It is up to you to figure out how to\n",
        "use the function. **You don't need to submit anything in this part.**\n",
        "To earn the marks, correctly plot the training and validation accuracy every few \n",
        "iterations as part of your training curve."
      ]
    },
    {
      "cell_type": "code",
      "metadata": {
        "collapsed": true,
        "id": "bHWLfCzM1pq_"
      },
      "source": [
        "def get_accuracy(model, data_loader):\n",
        "    \"\"\"Return the \"accuracy\" of the autoencoder model across a data set.\n",
        "    That is, for each record and for each categorical feature, \n",
        "    we determine whether the model can successfully predict the value\n",
        "    of the categorical feature given all the other features of the \n",
        "    record. The returned \"accuracy\" measure is the percentage of times \n",
        "    that our model is successful.\n",
        "        \n",
        "    Args:\n",
        "       - model: the autoencoder model, an instance of nn.Module\n",
        "       - data_loader: an instance of torch.utils.data.DataLoader\n",
        "\n",
        "    Example (to illustrate how get_accuracy is intended to be called.\n",
        "             Depending on your variable naming this code might require\n",
        "             modification.)\n",
        "\n",
        "        >>> model = AutoEncoder()\n",
        "        >>> vdl = torch.utils.data.DataLoader(data_valid, batch_size=256, shuffle=True)\n",
        "        >>> get_accuracy(model, vdl)\n",
        "    \"\"\"\n",
        "    total = 0\n",
        "    acc = 0\n",
        "    for col in catcols:\n",
        "        for item in data_loader: # minibatches\n",
        "            inp = item.detach().numpy()\n",
        "            out = model(zero_out_feature(item.clone(), col)).detach().numpy()\n",
        "            for i in range(out.shape[0]): # record in minibatch\n",
        "                acc += int(get_feature(out[i], col) == get_feature(inp[i], col))\n",
        "                total += 1\n",
        "    return acc / total"
      ],
      "execution_count": null,
      "outputs": []
    },
    {
      "cell_type": "markdown",
      "metadata": {
        "id": "SxCTlXoV1prB"
      },
      "source": [
        "### Part (c) [4 pt]\n",
        "\n",
        "Run your updated training code, using reasonable initial hyperparameters.\n",
        "\n",
        "Include your training curve in your submission."
      ]
    },
    {
      "cell_type": "code",
      "metadata": {
        "id": "nj5b71l-1prC",
        "colab": {
          "base_uri": "https://localhost:8080/",
          "height": 1000
        },
        "outputId": "8abea0c4-8886-4467-ce08-cae21b5d3591"
      },
      "source": [
        "train_loader = torch.utils.data.DataLoader(train_data, batch_size=64, shuffle=True)\n",
        "valid_loader = torch.utils.data.DataLoader(val_data, batch_size=64, shuffle=True)\n",
        "model = AutoEncoder()\n",
        "\n",
        "train_loss, val_loss, train_acc, val_acc, iters=train(model, train_loader, valid_loader, num_epochs=30, learning_rate=1e-4,batch_size=64)\n",
        "\n",
        "# Plotting\n",
        "plt.title(\"Training vs Validation Loss\")\n",
        "plt.plot(iters, train_loss, label=\"Train\")\n",
        "plt.plot(iters, val_loss, label=\"Validation\")\n",
        "plt.xlabel(\"Epochs\")\n",
        "plt.ylabel(\"Loss\")\n",
        "plt.show()\n",
        "\n",
        "plt.title(\"Training vs Accuracy Curve\")\n",
        "plt.plot(iters, train_acc, label=\"Train\")\n",
        "plt.plot(iters, val_acc, label=\"Validation\")\n",
        "plt.xlabel(\"Epochs\")\n",
        "plt.ylabel(\"Training Accuracy\")\n",
        "plt.legend(loc='best')\n",
        "plt.show()\n"
      ],
      "execution_count": null,
      "outputs": [
        {
          "output_type": "stream",
          "text": [
            "Epoch 0 - Training Accuracy: 0.4588255356090906, Validation Accuracy: 0.4558738425925926\n",
            "Epoch 1 - Training Accuracy: 0.4588255356090906, Validation Accuracy: 0.4558738425925926\n",
            "Epoch 2 - Training Accuracy: 0.4668247914922643, Validation Accuracy: 0.46292679398148145\n",
            "Epoch 3 - Training Accuracy: 0.4795445384925433, Validation Accuracy: 0.4763454861111111\n",
            "Epoch 4 - Training Accuracy: 0.5440036585743961, Validation Accuracy: 0.5385199652777778\n",
            "Epoch 5 - Training Accuracy: 0.5650714662201965, Validation Accuracy: 0.5616319444444444\n",
            "Epoch 6 - Training Accuracy: 0.5690788453787244, Validation Accuracy: 0.5657913773148148\n",
            "Epoch 7 - Training Accuracy: 0.5734505317334821, Validation Accuracy: 0.5697337962962963\n",
            "Epoch 8 - Training Accuracy: 0.5779462375592969, Validation Accuracy: 0.5730251736111112\n",
            "Epoch 9 - Training Accuracy: 0.5820853874058227, Validation Accuracy: 0.5767144097222222\n",
            "Epoch 10 - Training Accuracy: 0.580697919573373, Validation Accuracy: 0.5746889467592593\n",
            "Epoch 11 - Training Accuracy: 0.5832170650792174, Validation Accuracy: 0.5765335648148148\n",
            "Epoch 12 - Training Accuracy: 0.5841782159799088, Validation Accuracy: 0.5776548032407407\n",
            "Epoch 13 - Training Accuracy: 0.5822791678293492, Validation Accuracy: 0.5763165509259259\n",
            "Epoch 14 - Training Accuracy: 0.5766207794623756, Validation Accuracy: 0.5745804398148148\n",
            "Epoch 15 - Training Accuracy: 0.5807444268750194, Validation Accuracy: 0.5817057291666666\n",
            "Epoch 16 - Training Accuracy: 0.5894722971506526, Validation Accuracy: 0.5887225115740741\n",
            "Epoch 17 - Training Accuracy: 0.5947198710197501, Validation Accuracy: 0.5922309027777778\n",
            "Epoch 18 - Training Accuracy: 0.6004945276408397, Validation Accuracy: 0.5959563078703703\n",
            "Epoch 19 - Training Accuracy: 0.6017192199175271, Validation Accuracy: 0.5980179398148148\n",
            "Epoch 20 - Training Accuracy: 0.6047887018261867, Validation Accuracy: 0.6008029513888888\n",
            "Epoch 21 - Training Accuracy: 0.6038275509254953, Validation Accuracy: 0.6012369791666666\n",
            "Epoch 22 - Training Accuracy: 0.6058583697640529, Validation Accuracy: 0.6009476273148148\n",
            "Epoch 23 - Training Accuracy: 0.6095712026788206, Validation Accuracy: 0.6052155671296297\n",
            "Epoch 24 - Training Accuracy: 0.61351657210182, Validation Accuracy: 0.6082899305555556\n",
            "Epoch 25 - Training Accuracy: 0.6119430750627849, Validation Accuracy: 0.6057942708333334\n",
            "Epoch 26 - Training Accuracy: 0.6143769571822776, Validation Accuracy: 0.6071325231481481\n",
            "Epoch 27 - Training Accuracy: 0.6129507332651226, Validation Accuracy: 0.6067346643518519\n",
            "Epoch 28 - Training Accuracy: 0.6117492946392583, Validation Accuracy: 0.6048177083333334\n",
            "Epoch 29 - Training Accuracy: 0.6123306359098378, Validation Accuracy: 0.6048900462962963\n",
            "Final Training Accuracy: 0.6123306359098378\n",
            "Final Validation Accuracy: 0.6048900462962963\n"
          ],
          "name": "stdout"
        },
        {
          "output_type": "display_data",
          "data": {
            "image/png": "[encoded data removed]",
            "text/plain": [
              "<Figure size 432x288 with 1 Axes>"
            ]
          },
          "metadata": {
            "tags": [],
            "needs_background": "light"
          }
        },
        {
          "output_type": "display_data",
          "data": {
            "image/png": "[encoded data removed]",
            "text/plain": [
              "<Figure size 432x288 with 1 Axes>"
            ]
          },
          "metadata": {
            "tags": [],
            "needs_background": "light"
          }
        }
      ]
    },
    {
      "cell_type": "markdown",
      "metadata": {
        "id": "h9xTwIf51prF"
      },
      "source": [
        "### Part (d) [5 pt]\n",
        "\n",
        "Tune your hyperparameters, training at least 4 different models (4 sets of hyperparameters).\n",
        "\n",
        "Do not include all your training curves. Instead, explain what hyperparameters\n",
        "you tried, what their effect was, and what your thought process was as you \n",
        "chose the next set of hyperparameters to try."
      ]
    },
    {
      "cell_type": "code",
      "metadata": {
        "id": "PhTKt9iL1prG",
        "colab": {
          "base_uri": "https://localhost:8080/"
        },
        "outputId": "253c4c99-d848-42f0-f501-68527b9217a7"
      },
      "source": [
        "#hyperparameters: num_epochs=30, learning_rate=1e-4, batch_size=128\n",
        "#The loss curve in Part c is a little noisy, \n",
        "#so I increase the batch size to 128 and try to make the loss plot smoother\n",
        "train_loader = torch.utils.data.DataLoader(train_data, batch_size=128, shuffle=True)\n",
        "valid_loader = torch.utils.data.DataLoader(val_data, batch_size=128, shuffle=True)\n",
        "model2 = AutoEncoder()\n",
        "\n",
        "train_loss, val_loss, train_acc, val_acc, iters=train(model2, train_loader, valid_loader, num_epochs=30, learning_rate=1e-4,batch_size=128)\n",
        "\n"
      ],
      "execution_count": null,
      "outputs": [
        {
          "output_type": "stream",
          "text": [
            "Epoch 0 - Training Accuracy: 0.33160481195547703, Validation Accuracy: 0.3314163773148148\n",
            "Epoch 1 - Training Accuracy: 0.4588255356090906, Validation Accuracy: 0.4558738425925926\n",
            "Epoch 2 - Training Accuracy: 0.4589650575140297, Validation Accuracy: 0.4560546875\n",
            "Epoch 3 - Training Accuracy: 0.45978668650978205, Validation Accuracy: 0.45601851851851855\n",
            "Epoch 4 - Training Accuracy: 0.4648947384739404, Validation Accuracy: 0.46198640046296297\n",
            "Epoch 5 - Training Accuracy: 0.4668170402753232, Validation Accuracy: 0.46274594907407407\n",
            "Epoch 6 - Training Accuracy: 0.48371469320683347, Validation Accuracy: 0.4794921875\n",
            "Epoch 7 - Training Accuracy: 0.5345936812079497, Validation Accuracy: 0.5348668981481481\n",
            "Epoch 8 - Training Accuracy: 0.5501658760425386, Validation Accuracy: 0.5464048032407407\n",
            "Epoch 9 - Training Accuracy: 0.5576768052584256, Validation Accuracy: 0.5553747106481481\n",
            "Epoch 10 - Training Accuracy: 0.5645831395529098, Validation Accuracy: 0.5607277199074074\n",
            "Epoch 11 - Training Accuracy: 0.5641413201872694, Validation Accuracy: 0.5623191550925926\n",
            "Epoch 12 - Training Accuracy: 0.5697376988187145, Validation Accuracy: 0.5656467013888888\n",
            "Epoch 13 - Training Accuracy: 0.5724583759650265, Validation Accuracy: 0.5689380787037037\n",
            "Epoch 14 - Training Accuracy: 0.5750782872911047, Validation Accuracy: 0.5704933449074074\n",
            "Epoch 15 - Training Accuracy: 0.5785740861315226, Validation Accuracy: 0.5748697916666666\n",
            "Epoch 16 - Training Accuracy: 0.5814420363997147, Validation Accuracy: 0.5755570023148148\n",
            "Epoch 17 - Training Accuracy: 0.5809382072985458, Validation Accuracy: 0.5752314814814815\n",
            "Epoch 18 - Training Accuracy: 0.5821318947074691, Validation Accuracy: 0.5764250578703703\n",
            "Epoch 19 - Training Accuracy: 0.5822326605277028, Validation Accuracy: 0.5755570023148148\n",
            "Epoch 20 - Training Accuracy: 0.5825349579884042, Validation Accuracy: 0.5754484953703703\n",
            "Epoch 21 - Training Accuracy: 0.5818606021145319, Validation Accuracy: 0.5747251157407407\n",
            "Epoch 22 - Training Accuracy: 0.5821473971413512, Validation Accuracy: 0.5757378472222222\n",
            "Epoch 23 - Training Accuracy: 0.5813102657117167, Validation Accuracy: 0.5753761574074074\n",
            "Epoch 24 - Training Accuracy: 0.5761867113136763, Validation Accuracy: 0.5712528935185185\n",
            "Epoch 25 - Training Accuracy: 0.5758379065513286, Validation Accuracy: 0.5732060185185185\n",
            "Epoch 26 - Training Accuracy: 0.5711019130003411, Validation Accuracy: 0.5669487847222222\n",
            "Epoch 27 - Training Accuracy: 0.5719778005146808, Validation Accuracy: 0.5683232060185185\n",
            "Epoch 28 - Training Accuracy: 0.5751635506774564, Validation Accuracy: 0.5713975694444444\n",
            "Epoch 29 - Training Accuracy: 0.5761324527950888, Validation Accuracy: 0.5714699074074074\n",
            "Final Training Accuracy: 0.5761324527950888\n",
            "Final Validation Accuracy: 0.5714699074074074\n"
          ],
          "name": "stdout"
        }
      ]
    },
    {
      "cell_type": "code",
      "metadata": {
        "colab": {
          "base_uri": "https://localhost:8080/"
        },
        "id": "IxQzyQnXra0P",
        "outputId": "f4efce77-7b6d-4c8d-8958-81faa36d91fd"
      },
      "source": [
        "#hyperparameters: num_epochs=30, learning_rate=2e-4, batch_size=128\n",
        "#from model 2, we can see increase the batch size did make the loss plot becomes smoother,\n",
        "#but the final accuracy of both training and validation decreases a little.\n",
        "#so I increase the learning rate to 2e-4 and try to increase the accuracy.\n",
        "train_loader = torch.utils.data.DataLoader(train_data, batch_size=128, shuffle=True)\n",
        "valid_loader = torch.utils.data.DataLoader(val_data, batch_size=128, shuffle=True)\n",
        "model3 = AutoEncoder()\n",
        "\n",
        "train_loss, val_loss, train_acc, val_acc, iters=train(model3, train_loader, valid_loader, num_epochs=30, learning_rate=2e-4,batch_size=128)\n"
      ],
      "execution_count": null,
      "outputs": [
        {
          "output_type": "stream",
          "text": [
            "Epoch 0 - Training Accuracy: 0.43773447431246704, Validation Accuracy: 0.4343894675925926\n",
            "Epoch 1 - Training Accuracy: 0.4588255356090906, Validation Accuracy: 0.4558738425925926\n",
            "Epoch 2 - Training Accuracy: 0.4669100548786159, Validation Accuracy: 0.46292679398148145\n",
            "Epoch 3 - Training Accuracy: 0.5273617958019409, Validation Accuracy: 0.5255714699074074\n",
            "Epoch 4 - Training Accuracy: 0.5552041670542275, Validation Accuracy: 0.5510344328703703\n",
            "Epoch 5 - Training Accuracy: 0.5673813288686324, Validation Accuracy: 0.5646701388888888\n",
            "Epoch 6 - Training Accuracy: 0.5724428735311444, Validation Accuracy: 0.5687210648148148\n",
            "Epoch 7 - Training Accuracy: 0.5787988714228134, Validation Accuracy: 0.5750144675925926\n",
            "Epoch 8 - Training Accuracy: 0.5798762905776207, Validation Accuracy: 0.5742910879629629\n",
            "Epoch 9 - Training Accuracy: 0.5781400179828233, Validation Accuracy: 0.5725911458333334\n",
            "Epoch 10 - Training Accuracy: 0.5794499736458624, Validation Accuracy: 0.5735677083333334\n",
            "Epoch 11 - Training Accuracy: 0.5836511332279167, Validation Accuracy: 0.5786313657407407\n",
            "Epoch 12 - Training Accuracy: 0.5804886367159644, Validation Accuracy: 0.5778356481481481\n",
            "Epoch 13 - Training Accuracy: 0.5790934176665736, Validation Accuracy: 0.5772569444444444\n",
            "Epoch 14 - Training Accuracy: 0.5924642668899017, Validation Accuracy: 0.5883969907407407\n",
            "Epoch 15 - Training Accuracy: 0.5960685827674945, Validation Accuracy: 0.5917607060185185\n",
            "Epoch 16 - Training Accuracy: 0.5983086844634607, Validation Accuracy: 0.5951605902777778\n",
            "Epoch 17 - Training Accuracy: 0.5962701144079621, Validation Accuracy: 0.5929181134259259\n",
            "Epoch 18 - Training Accuracy: 0.6024090782252813, Validation Accuracy: 0.5979094328703703\n",
            "Epoch 19 - Training Accuracy: 0.60027749356649, Validation Accuracy: 0.5958478009259259\n",
            "Epoch 20 - Training Accuracy: 0.6026648683843363, Validation Accuracy: 0.5976924189814815\n",
            "Epoch 21 - Training Accuracy: 0.6061296623569901, Validation Accuracy: 0.6021773726851852\n",
            "Epoch 22 - Training Accuracy: 0.599378352401327, Validation Accuracy: 0.5957754629629629\n",
            "Epoch 23 - Training Accuracy: 0.6014634297584721, Validation Accuracy: 0.5974392361111112\n",
            "Epoch 24 - Training Accuracy: 0.6055018137847642, Validation Accuracy: 0.6008752893518519\n",
            "Epoch 25 - Training Accuracy: 0.5989287818187455, Validation Accuracy: 0.5902054398148148\n",
            "Epoch 26 - Training Accuracy: 0.6055405698694695, Validation Accuracy: 0.6000072337962963\n",
            "Epoch 27 - Training Accuracy: 0.6008898397048337, Validation Accuracy: 0.5949074074074074\n",
            "Epoch 28 - Training Accuracy: 0.6052382724087682, Validation Accuracy: 0.5999348958333334\n",
            "Epoch 29 - Training Accuracy: 0.602881902458686, Validation Accuracy: 0.5991391782407407\n",
            "Final Training Accuracy: 0.602881902458686\n",
            "Final Validation Accuracy: 0.5991391782407407\n"
          ],
          "name": "stdout"
        }
      ]
    },
    {
      "cell_type": "code",
      "metadata": {
        "colab": {
          "base_uri": "https://localhost:8080/",
          "height": 1000
        },
        "id": "v3Iz9QIYwMlr",
        "outputId": "067476ab-fbdc-4266-f37c-33a649eb69d0"
      },
      "source": [
        "#hyperparameters: num_epochs=30, learning_rate=1e-3, batch_size=128\n",
        "#from model3, we can see the accuracy still not good as the one in part c\n",
        "#since large batch size allows for larger learning rates\n",
        "#the learning rate might not large enough\n",
        "#so I keep increasing the learning rate to 1e-3\n",
        "train_loader = torch.utils.data.DataLoader(train_data, batch_size=128, shuffle=True)\n",
        "valid_loader = torch.utils.data.DataLoader(val_data, batch_size=128, shuffle=True)\n",
        "model4 = AutoEncoder()\n",
        "\n",
        "train_loss, val_loss, train_acc, val_acc, iters=train(model4, train_loader, valid_loader, num_epochs=30, learning_rate=1e-3,batch_size=128)\n",
        "\n",
        "# Plotting\n",
        "plt.title(\"Training vs Validation Loss\")\n",
        "plt.plot(iters, train_loss, label=\"Train\")\n",
        "plt.plot(iters, val_loss, label=\"Validation\")\n",
        "plt.xlabel(\"Epochs\")\n",
        "plt.ylabel(\"Loss\")\n",
        "plt.show()\n",
        "\n",
        "plt.title(\"Training vs Accuracy Curve\")\n",
        "plt.plot(iters, train_acc, label=\"Train\")\n",
        "plt.plot(iters, val_acc, label=\"Validation\")\n",
        "plt.xlabel(\"Epochs\")\n",
        "plt.ylabel(\"Training Accuracy\")\n",
        "plt.legend(loc='best')\n",
        "plt.show()\n"
      ],
      "execution_count": 215,
      "outputs": [
        {
          "output_type": "stream",
          "text": [
            "Epoch 0 - Training Accuracy: 0.45680246798747404, Validation Accuracy: 0.45424623842592593\n",
            "Epoch 1 - Training Accuracy: 0.5581651319257124, Validation Accuracy: 0.5547598379629629\n",
            "Epoch 2 - Training Accuracy: 0.5703500449570582, Validation Accuracy: 0.5629340277777778\n",
            "Epoch 3 - Training Accuracy: 0.5952004464700958, Validation Accuracy: 0.5863353587962963\n",
            "Epoch 4 - Training Accuracy: 0.60378879484079, Validation Accuracy: 0.6000434027777778\n",
            "Epoch 5 - Training Accuracy: 0.6043856385452516, Validation Accuracy: 0.5979456018518519\n",
            "Epoch 6 - Training Accuracy: 0.6094781880755279, Validation Accuracy: 0.6077835648148148\n",
            "Epoch 7 - Training Accuracy: 0.6053622918798252, Validation Accuracy: 0.6019965277777778\n",
            "Epoch 8 - Training Accuracy: 0.6086953151644808, Validation Accuracy: 0.6033347800925926\n",
            "Epoch 9 - Training Accuracy: 0.6162217468142498, Validation Accuracy: 0.6083984375\n",
            "Epoch 10 - Training Accuracy: 0.621035252534648, Validation Accuracy: 0.6164641203703703\n",
            "Epoch 11 - Training Accuracy: 0.6162139955973088, Validation Accuracy: 0.6110387731481481\n",
            "Epoch 12 - Training Accuracy: 0.6235466468235513, Validation Accuracy: 0.6161747685185185\n",
            "Epoch 13 - Training Accuracy: 0.6223684618485102, Validation Accuracy: 0.6145833333333334\n",
            "Epoch 14 - Training Accuracy: 0.6219886522183983, Validation Accuracy: 0.6145833333333334\n",
            "Epoch 15 - Training Accuracy: 0.6234613834371996, Validation Accuracy: 0.6156322337962963\n",
            "Epoch 16 - Training Accuracy: 0.6254379437571699, Validation Accuracy: 0.6166449652777778\n",
            "Epoch 17 - Training Accuracy: 0.6241899978296592, Validation Accuracy: 0.6186342592592593\n",
            "Epoch 18 - Training Accuracy: 0.6162139955973088, Validation Accuracy: 0.6076750578703703\n",
            "Epoch 19 - Training Accuracy: 0.631166093076613, Validation Accuracy: 0.6231192129629629\n",
            "Epoch 20 - Training Accuracy: 0.6207562087247698, Validation Accuracy: 0.6125578703703703\n",
            "Epoch 21 - Training Accuracy: 0.6230738225901467, Validation Accuracy: 0.6142578125\n",
            "Epoch 22 - Training Accuracy: 0.6133537965460577, Validation Accuracy: 0.6047453703703703\n",
            "Epoch 23 - Training Accuracy: 0.6248721049204725, Validation Accuracy: 0.6155960648148148\n",
            "Epoch 24 - Training Accuracy: 0.6270734505317335, Validation Accuracy: 0.6165364583333334\n",
            "Epoch 25 - Training Accuracy: 0.6268409140235017, Validation Accuracy: 0.6204427083333334\n",
            "Epoch 26 - Training Accuracy: 0.6273292406907884, Validation Accuracy: 0.6188512731481481\n",
            "Epoch 27 - Training Accuracy: 0.6255619632282269, Validation Accuracy: 0.6149450231481481\n",
            "Epoch 28 - Training Accuracy: 0.629088766936409, Validation Accuracy: 0.6200448495370371\n",
            "Epoch 29 - Training Accuracy: 0.627143211484203, Validation Accuracy: 0.6189597800925926\n",
            "Final Training Accuracy: 0.627143211484203\n",
            "Final Validation Accuracy: 0.6189597800925926\n"
          ],
          "name": "stdout"
        },
        {
          "output_type": "display_data",
          "data": {
            "image/png": "[encoded data removed]",
            "text/plain": [
              "<Figure size 432x288 with 1 Axes>"
            ]
          },
          "metadata": {
            "tags": [],
            "needs_background": "light"
          }
        },
        {
          "output_type": "display_data",
          "data": {
            "image/png": "[encoded data removed]",
            "text/plain": [
              "<Figure size 432x288 with 1 Axes>"
            ]
          },
          "metadata": {
            "tags": [],
            "needs_background": "light"
          }
        }
      ]
    },
    {
      "cell_type": "code",
      "metadata": {
        "colab": {
          "base_uri": "https://localhost:8080/",
          "height": 1000
        },
        "id": "2rz1Dpz-vHC6",
        "outputId": "9c823507-b15a-48d7-86c8-a892cd652b36"
      },
      "source": [
        "#hyperparameters: num_epochs=30, learning_rate=1e-3, batch_size=256\n",
        "#from model4, we can see the accuracy becomes higher than it in part c\n",
        "#but I want to see if the loss curve can be more smooth and if can reach higher accuracy\n",
        "#so I increase the batch_size to 256\n",
        "train_loader = torch.utils.data.DataLoader(train_data, batch_size=256, shuffle=True)\n",
        "valid_loader = torch.utils.data.DataLoader(val_data, batch_size=256, shuffle=True)\n",
        "model5 = AutoEncoder()\n",
        "\n",
        "train_loss, val_loss, train_acc, val_acc, iters=train(model5, train_loader, valid_loader, num_epochs=30, learning_rate=1e-3,batch_size=256)\n",
        "\n",
        "# Plotting\n",
        "plt.title(\"Training vs Validation Loss\")\n",
        "plt.plot(iters, train_loss, label=\"Train\")\n",
        "plt.plot(iters, val_loss, label=\"Validation\")\n",
        "plt.xlabel(\"Epochs\")\n",
        "plt.ylabel(\"Loss\")\n",
        "plt.show()\n",
        "\n",
        "plt.title(\"Training vs Accuracy Curve\")\n",
        "plt.plot(iters, train_acc, label=\"Train\")\n",
        "plt.plot(iters, val_acc, label=\"Validation\")\n",
        "plt.xlabel(\"Epochs\")\n",
        "plt.ylabel(\"Training Accuracy\")\n",
        "plt.legend(loc='best')\n",
        "plt.show()\n"
      ],
      "execution_count": 220,
      "outputs": [
        {
          "output_type": "stream",
          "text": [
            "Epoch 0 - Training Accuracy: 0.4588255356090906, Validation Accuracy: 0.4558738425925926\n",
            "Epoch 1 - Training Accuracy: 0.46777819117601466, Validation Accuracy: 0.4636501736111111\n",
            "Epoch 2 - Training Accuracy: 0.5647924224103185, Validation Accuracy: 0.5602575231481481\n",
            "Epoch 3 - Training Accuracy: 0.5787368616872849, Validation Accuracy: 0.5716869212962963\n",
            "Epoch 4 - Training Accuracy: 0.5791554274021021, Validation Accuracy: 0.5711443865740741\n",
            "Epoch 5 - Training Accuracy: 0.5763107307847332, Validation Accuracy: 0.5713252314814815\n",
            "Epoch 6 - Training Accuracy: 0.5830465383065141, Validation Accuracy: 0.5780526620370371\n",
            "Epoch 7 - Training Accuracy: 0.6103075682882213, Validation Accuracy: 0.6060112847222222\n",
            "Epoch 8 - Training Accuracy: 0.6023083124050476, Validation Accuracy: 0.5965711805555556\n",
            "Epoch 9 - Training Accuracy: 0.6110439338976219, Validation Accuracy: 0.6040943287037037\n",
            "Epoch 10 - Training Accuracy: 0.6204229063963043, Validation Accuracy: 0.6151982060185185\n",
            "Epoch 11 - Training Accuracy: 0.6166868198307134, Validation Accuracy: 0.6089048032407407\n",
            "Epoch 12 - Training Accuracy: 0.614159923107928, Validation Accuracy: 0.6072410300925926\n",
            "Epoch 13 - Training Accuracy: 0.6094704368585868, Validation Accuracy: 0.6013454861111112\n",
            "Epoch 14 - Training Accuracy: 0.6237249248131956, Validation Accuracy: 0.6158130787037037\n",
            "Epoch 15 - Training Accuracy: 0.6267168945524447, Validation Accuracy: 0.6193938078703703\n",
            "Epoch 16 - Training Accuracy: 0.6198105602579606, Validation Accuracy: 0.6117259837962963\n",
            "Epoch 17 - Training Accuracy: 0.61534585929991, Validation Accuracy: 0.6053602430555556\n",
            "Epoch 18 - Training Accuracy: 0.6239264564536632, Validation Accuracy: 0.6143301504629629\n",
            "Epoch 19 - Training Accuracy: 0.6169426099897684, Validation Accuracy: 0.6084346064814815\n",
            "Epoch 20 - Training Accuracy: 0.624151241744954, Validation Accuracy: 0.6143663194444444\n",
            "Epoch 21 - Training Accuracy: 0.625321675503054, Validation Accuracy: 0.6184895833333334\n",
            "Epoch 22 - Training Accuracy: 0.6201438625864261, Validation Accuracy: 0.6113642939814815\n",
            "Epoch 23 - Training Accuracy: 0.6239342076706043, Validation Accuracy: 0.6141131365740741\n",
            "Epoch 24 - Training Accuracy: 0.6276625430192541, Validation Accuracy: 0.6196469907407407\n",
            "Epoch 25 - Training Accuracy: 0.6351967258859641, Validation Accuracy: 0.6248553240740741\n",
            "Epoch 26 - Training Accuracy: 0.634150311598921, Validation Accuracy: 0.6243851273148148\n",
            "Epoch 27 - Training Accuracy: 0.6305614981552103, Validation Accuracy: 0.623046875\n",
            "Epoch 28 - Training Accuracy: 0.6399249682200105, Validation Accuracy: 0.6312934027777778\n",
            "Epoch 29 - Training Accuracy: 0.6364756766812389, Validation Accuracy: 0.6284722222222222\n",
            "Final Training Accuracy: 0.6364756766812389\n",
            "Final Validation Accuracy: 0.6284722222222222\n"
          ],
          "name": "stdout"
        },
        {
          "output_type": "display_data",
          "data": {
            "image/png": "[encoded data removed]",
            "text/plain": [
              "<Figure size 432x288 with 1 Axes>"
            ]
          },
          "metadata": {
            "tags": [],
            "needs_background": "light"
          }
        },
        {
          "output_type": "display_data",
          "data": {
            "image/png": "[encoded data removed]",
            "text/plain": [
              "<Figure size 432x288 with 1 Axes>"
            ]
          },
          "metadata": {
            "tags": [],
            "needs_background": "light"
          }
        }
      ]
    },
    {
      "cell_type": "markdown",
      "metadata": {
        "id": "FjKESHc9x9tv"
      },
      "source": [
        "**Answer:**\n",
        "\n",
        "**model2:**\n",
        "\n",
        "Hyperparameters: num_epochs=30, learning_rate=1e-4, batch_size=128\n",
        "\n",
        "The loss curve in Part c is a little noisy, so I increase the batch size to 128 and try to make the loss plot smoother\n",
        "\n",
        "\n",
        "**model3:**\n",
        "\n",
        "Hyperparameters: num_epochs=30, learning_rate=2e-4, batch_size=128\n",
        "\n",
        "From model 2, we can see increase the batch size did make the loss plot becomes smoother and less noisy, but the final accuracy of both training and validation decreases a little. So I increase the learning rate to 2e-4 and try to increase the accuracy.\n",
        "\n",
        "**model4:**\n",
        "\n",
        "Hhyperparameters: num_epochs=30, learning_rate=1e-3, batch_size=128\n",
        "\n",
        "From model3, we can see the accuracy still not good as the one in part c. Since large batch size allows for larger learning rates, the learning rate might not large enough. So I keep increasing the learning rate to 1e-3\n",
        "\n",
        "**model5:**\n",
        "\n",
        "Hyperparameters: num_epochs=30, learning_rate=1e-3, batch_size=256\n",
        "\n",
        "From model4, we can see the accuracy becomes higher than it in part c, but I want to see if the loss curve can be more smooth and if can reach higher accuracy. so I increase the batch_size to 256.\n",
        "\n",
        "\n",
        "From the above analysis, I found model 5 perform the best fit so far, with highest accuracy and least noisy loss curve. The hyperparameters are num_epochs=30, learning_rate=1e-3, batch_size=256\n"
      ]
    },
    {
      "cell_type": "markdown",
      "metadata": {
        "id": "ymCsZH291prI"
      },
      "source": [
        "## Part 4. Testing [12 pt]\n",
        "\n",
        "### Part (a) [2 pt]\n",
        "\n",
        "Compute and report the test accuracy."
      ]
    },
    {
      "cell_type": "code",
      "metadata": {
        "id": "0OkSbup91prJ",
        "colab": {
          "base_uri": "https://localhost:8080/"
        },
        "outputId": "5e2a53a0-4521-4dc6-8c1c-156e48c5ca88"
      },
      "source": [
        "test_loader = torch.utils.data.DataLoader(test_data, batch_size=256, shuffle=True)\n",
        "print(\"Test accuracy\", get_accuracy(model5, test_loader))"
      ],
      "execution_count": 221,
      "outputs": [
        {
          "output_type": "stream",
          "text": [
            "Test accuracy 0.6366102430555556\n"
          ],
          "name": "stdout"
        }
      ]
    },
    {
      "cell_type": "markdown",
      "metadata": {
        "id": "UEe9yt6L1prM"
      },
      "source": [
        "### Part (b) [4 pt]\n",
        "\n",
        "Based on the test accuracy alone, it is difficult to assess whether our model\n",
        "is actually performing well. We don't know whether a high accuracy is due to\n",
        "the simplicity of the problem, or if a poor accuracy is a result of the inherent\n",
        "difficulty of the problem.\n",
        "\n",
        "It is therefore very important to be able to compare our model to at least one\n",
        "alternative. In particular, we consider a simple **baseline**\n",
        "model that is not very computationally expensive. Our neural network\n",
        "should at least outperform this baseline model. If our network is not much\n",
        "better than the baseline, then it is not doing well.\n",
        "\n",
        "For our data imputation problem, consider the following baseline model:\n",
        "to predict a missing feature, the baseline model will look at the **most common value** of the feature in the training set. \n",
        "\n",
        "For example, if the feature \"marriage\" is missing, then this model's prediction will be the most common value for \"marriage\" in the training set, which happens to be \"Married-civ-spouse\".\n",
        "\n",
        "What would be the test accuracy of this baseline model?\n"
      ]
    },
    {
      "cell_type": "code",
      "metadata": {
        "id": "p45VHp011prN",
        "colab": {
          "base_uri": "https://localhost:8080/"
        },
        "outputId": "8d88a6f8-2467-4b8c-b105-8644c245fbe9"
      },
      "source": [
        "most_common = []\n",
        "sum=0\n",
        "for col in catcols:\n",
        "  # get the most common value for each column\n",
        "  most_common.append(df_not_missing[col].value_counts().idxmax())\n",
        "  sum+= df_not_missing[col].value_counts().max()\n",
        "\n",
        "accuracy = sum/(df_not_missing.shape[0] *len(catcols))\n",
        "print(\"The test accuracy for baseline model is:\", accuracy)"
      ],
      "execution_count": null,
      "outputs": [
        {
          "output_type": "stream",
          "text": [
            "The test accuracy for baseline model is: 0.459204158256831\n"
          ],
          "name": "stdout"
        }
      ]
    },
    {
      "cell_type": "code",
      "metadata": {
        "colab": {
          "base_uri": "https://localhost:8080/"
        },
        "id": "HGoP30e06Vp-",
        "outputId": "081a13cc-0b44-4844-ee7c-ee5c980368ea"
      },
      "source": [
        "most_common"
      ],
      "execution_count": null,
      "outputs": [
        {
          "output_type": "execute_result",
          "data": {
            "text/plain": [
              "[' Private',\n",
              " ' Married-civ-spouse',\n",
              " ' Prof-specialty',\n",
              " ' HS-grad',\n",
              " ' Husband',\n",
              " ' Male']"
            ]
          },
          "metadata": {
            "tags": []
          },
          "execution_count": 89
        }
      ]
    },
    {
      "cell_type": "markdown",
      "metadata": {
        "id": "QlHu0wxh1prP"
      },
      "source": [
        "### Part (c) [1 pt]\n",
        "\n",
        "How does your test accuracy from part (a) compared to your basline test accuracy in part (b)?"
      ]
    },
    {
      "cell_type": "markdown",
      "metadata": {
        "id": "H6Zbq3pf7AM6"
      },
      "source": [
        "**Answer:**\n",
        "My test accuracy is 0.6366102430555556 and baseline test accuracy is 0.459204158256831. \n",
        "So My test accuracy from part(a) is higher than the baseline test accuracy in part (b)"
      ]
    },
    {
      "cell_type": "markdown",
      "metadata": {
        "id": "DfQPgu1Q1prS"
      },
      "source": [
        "### Part (d) [1 pt]\n",
        "\n",
        "Look at the first item in your test data. \n",
        "Do you think it is reasonable for a human\n",
        "to be able to guess this person's education level\n",
        "based on their other features? Explain."
      ]
    },
    {
      "cell_type": "markdown",
      "metadata": {
        "id": "44us-cy-S0Yt"
      },
      "source": [
        "**Answer:**\n",
        "Yes, I think it is reasonable for a human to be able to guess this person's education level based on their other features. For example, given the below info, a human might guess this person's education level based on occupation. A sales might require Bachelors education."
      ]
    },
    {
      "cell_type": "code",
      "metadata": {
        "id": "3qbQ1vvT1prT",
        "colab": {
          "base_uri": "https://localhost:8080/"
        },
        "outputId": "20ec58e4-a0f8-4a70-9291-266d66500253"
      },
      "source": [
        "get_features(test_data[0])"
      ],
      "execution_count": null,
      "outputs": [
        {
          "output_type": "execute_result",
          "data": {
            "text/plain": [
              "{'edu': 'Bachelors',\n",
              " 'marriage': 'Married-civ-spouse',\n",
              " 'occupation': 'Sales',\n",
              " 'relationship': 'Husband',\n",
              " 'sex': 'Male',\n",
              " 'work': 'Private'}"
            ]
          },
          "metadata": {
            "tags": []
          },
          "execution_count": 94
        }
      ]
    },
    {
      "cell_type": "markdown",
      "metadata": {
        "id": "p_d5uuAY1prZ"
      },
      "source": [
        "### Part (e) [2 pt]\n",
        "\n",
        "What is your model's prediction of this person's education\n",
        "level, given their other features?\n"
      ]
    },
    {
      "cell_type": "markdown",
      "metadata": {
        "id": "JiButOEuWyJ6"
      },
      "source": [
        "**Answer:**\n",
        "\n",
        "My model's prediction of this person's education level is Bachelors."
      ]
    },
    {
      "cell_type": "code",
      "metadata": {
        "id": "kBY5gKXR1pra",
        "colab": {
          "base_uri": "https://localhost:8080/"
        },
        "outputId": "0422029c-8121-4e42-97c5-fb19480c919d"
      },
      "source": [
        "data_input = torch.from_numpy(test_data[0])\n",
        "data_input = torch.reshape(data_input, (1, 57))\n",
        "prediction = model5(zero_out_feature(data_input, 'edu')).detach().numpy()\n",
        "print(get_feature(prediction[0],'edu'))"
      ],
      "execution_count": 222,
      "outputs": [
        {
          "output_type": "stream",
          "text": [
            "Bachelors\n"
          ],
          "name": "stdout"
        }
      ]
    },
    {
      "cell_type": "markdown",
      "metadata": {
        "id": "fdLNA0ce1prd"
      },
      "source": [
        "### Part (f) [2 pt]\n",
        "\n",
        "What is the baseline model's prediction\n",
        "of this person's education level?"
      ]
    },
    {
      "cell_type": "markdown",
      "metadata": {
        "id": "lU2qzPqGYb1M"
      },
      "source": [
        "**Answer:**\n",
        "\n",
        "The baseline model prediction of this person is HS-grad."
      ]
    },
    {
      "cell_type": "code",
      "metadata": {
        "id": "TXgoM9qk1prd",
        "colab": {
          "base_uri": "https://localhost:8080/"
        },
        "outputId": "abf8c55a-c434-4726-cc41-acaeb1188442"
      },
      "source": [
        "feature=\"edu\"\n",
        "prediction=df_not_missing[feature].value_counts().idxmax()\n",
        "print(\"The baseline model's prediction of this person's education level:\",prediction)"
      ],
      "execution_count": null,
      "outputs": [
        {
          "output_type": "stream",
          "text": [
            "The baseline model's prediction of this person's education level:  HS-grad\n"
          ],
          "name": "stdout"
        }
      ]
    }
  ]
}